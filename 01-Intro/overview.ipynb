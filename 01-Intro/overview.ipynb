{
 "cells": [
  {
   "cell_type": "markdown",
   "metadata": {
    "slideshow": {
     "slide_type": "slide"
    }
   },
   "source": [
    "# Методы оптимизации для решения прикладных задач: обзор"
   ]
  },
  {
   "cell_type": "markdown",
   "metadata": {
    "slideshow": {
     "slide_type": "slide"
    }
   },
   "source": [
    "## Типы задач\n",
    "\n",
    "- Дискретные\n",
    "- Выпуклые\n",
    "- Невыпуклые, но с некоторой структурой"
   ]
  },
  {
   "cell_type": "markdown",
   "metadata": {
    "slideshow": {
     "slide_type": "slide"
    }
   },
   "source": [
    "## Матричные разложения\n",
    "\n",
    "Представление матрицы $X$ в виде произведения $U$ и $V$.\n",
    "\n",
    "**Теорема**\n",
    "Любая матрица может быть представлена в виде \n",
    "\n",
    "SVD разложения\n",
    "\n",
    "$$ X = U\\Sigma V^* $$\n",
    "\n",
    "- SVD даёт наилучшую аппроксимацию данной матрицы заданного ранга"
   ]
  },
  {
   "cell_type": "markdown",
   "metadata": {
    "slideshow": {
     "slide_type": "slide"
    }
   },
   "source": [
    "### Приложение 1: тематическое моделирование и латентный семантический поиск\n",
    "\n",
    "- Дан набор документов\n",
    "- Необходимо разбить его на темы\n",
    "- Модель мешка слов\n",
    "- Для обеих задач нужно некоторое вложение документов в $\\mathbb{R}^n$"
   ]
  },
  {
   "cell_type": "markdown",
   "metadata": {
    "slideshow": {
     "slide_type": "slide"
    }
   },
   "source": [
    "### Модель мешка слов (\"bag-of-words\")\n",
    "\n",
    "- Документ – это набор слов, порядок которых неважен\n",
    "- Тема – это набор слов, наиболее характерных для неё"
   ]
  },
  {
   "cell_type": "markdown",
   "metadata": {
    "slideshow": {
     "slide_type": "slide"
    }
   },
   "source": [
    "### Матрица документов-слов $A$\n",
    "\n",
    "- Матрица размера $N_{docs} \\times N_{terms}$\n",
    "- Чем её заполнить?"
   ]
  },
  {
   "cell_type": "markdown",
   "metadata": {
    "slideshow": {
     "slide_type": "slide"
    }
   },
   "source": [
    "### Возможные варианты\n",
    "\n",
    "- Элемент $(i, j)$ – число вхождений слова $j$ в документ $i$\n",
    "- Элемент $(i, j)$ - tf-idf для слова $j$ и документа $i$\n",
    "\n",
    "Tf-Idf – произведение \n",
    "\n",
    "- tf = частота встречаемости слова в документе и \n",
    "\n",
    "- idf = $\\log \\frac{|D|}{|\\{ d \\in D \\mid t \\in D \\}|}$, то есть логарифм отношения числа всех документов к числу документов, в которых есть слово, для которого вычисляется tf-idf. \n",
    "\n",
    "**Q:** какими свойствами будет обладать матрица $A$?"
   ]
  },
  {
   "cell_type": "markdown",
   "metadata": {
    "slideshow": {
     "slide_type": "slide"
    }
   },
   "source": [
    "## Как из SVD получить требуемое вложение?\n",
    "\n",
    "- Пусть дана матрица $A$\n",
    "- Для получения вложений в $\\mathbb{R}^n$ вычислим SVD для некоторого ранга $d$: $A = U\\Sigma V^*$\n",
    "- Матрица $U$ размера $N_{docs} \\times d$, то есть каждый документ описывается некоторым вектором в $\\mathbb{R}^d$\n",
    "- Матрица $V$ размера $N_{terms} \\times d$, то есть каждое слово также описывается некоторым вектором в $\\mathbb{R}^d$ "
   ]
  },
  {
   "cell_type": "markdown",
   "metadata": {
    "slideshow": {
     "slide_type": "slide"
    }
   },
   "source": [
    "## Другая интерпретация\n",
    "\n",
    "- Если ранг $d$ – это число тем в коллекции документов, то получаем некоторое распределение слов по темам и документов по темам\n",
    "- Можно получить самые релевантные слова для каждой темы и самые характерные документы\n",
    "- Также эти вложения можно использовать как входные данные для более продвинутых алгоритмов кластеризации/классификации"
   ]
  },
  {
   "cell_type": "markdown",
   "metadata": {
    "slideshow": {
     "slide_type": "slide"
    }
   },
   "source": [
    "### Давайте посмотрим, как это всё работает!"
   ]
  },
  {
   "cell_type": "code",
   "execution_count": 1,
   "metadata": {
    "slideshow": {
     "slide_type": "slide"
    }
   },
   "outputs": [],
   "source": [
    "import numpy as np\n",
    "import pandas as pd\n",
    "import matplotlib.pyplot as plt\n",
    "import scipy.sparse.linalg as spsplin\n",
    "import scipy.sparse as spsp"
   ]
  },
  {
   "cell_type": "markdown",
   "metadata": {
    "slideshow": {
     "slide_type": "slide"
    }
   },
   "source": [
    "### Загрузим данные"
   ]
  },
  {
   "cell_type": "code",
   "execution_count": 2,
   "metadata": {
    "slideshow": {
     "slide_type": "fragment"
    }
   },
   "outputs": [
    {
     "name": "stdout",
     "output_type": "stream",
     "text": [
      "Total number of Documents: 4551\n"
     ]
    }
   ],
   "source": [
    "documents = []\n",
    "with open(\"./test_articles.txt\",\"r\") as fin:\n",
    "    for line in fin.readlines():\n",
    "        text = line.strip()\n",
    "        documents.append(text)\n",
    "print(\"Total number of Documents:\",len(documents))"
   ]
  },
  {
   "cell_type": "markdown",
   "metadata": {
    "slideshow": {
     "slide_type": "slide"
    }
   },
   "source": [
    "### Пример документа"
   ]
  },
  {
   "cell_type": "code",
   "execution_count": 109,
   "metadata": {
    "slideshow": {
     "slide_type": "fragment"
    }
   },
   "outputs": [
    {
     "data": {
      "text/plain": [
       "'Manchester United v Tottenham Hotspur: match preview The mood at Manchester United is one of frustration mixed with confidence that very soon everything will begin to click and performance will match result. Tottenham Hotspur are six points ahead of José Mourinho’s side in fifth place and given Mauricio Pochettino was of interest to United before hiring the Portuguese each man may have a little extra motivation to deliver three points. Jamie Jackson Kick-off 2.15pm Venue Old Trafford Last season Man Utd 1 Tottenham 0 Live Sky Sports 1 Referee Robert Madley This season G10, Y49, R0, 4.9 cards per game Odds H 5-4 A 3-1 D 5-2 Manchester Utd Subs from Romero, Johnstone, Depay, Lingard, Fosu-Mensah, Tuanzebe, Schneiderlin, Young, Blind, Fellaini, Schweinsteiger, Rashford, Mata, Rojo, Rooney Doubtful None Injured Shaw (match fitness, 14 Dec), Smalling (toe, 17 Dec) Suspended None Form LDWDDD Discipline Y34 R1 Leading scorer Ibrahimovic 8 Tottenham Hotspur Subs from Vorm, López, Trippier, Davies, Dier, Wimmer, Carter-Vickers, Carroll, Winks, Onomah, Sissoko, Nkoudou Doubtful Davies (ankle) Injured Janssen (ankle, 28 Dec), Lamela (hip, unknown) Suspended None Form DDDWLW Discipline Y26 R0 Leading scorer Kane 7'"
      ]
     },
     "execution_count": 109,
     "metadata": {},
     "output_type": "execute_result"
    }
   ],
   "source": [
    "documents[119]"
   ]
  },
  {
   "cell_type": "markdown",
   "metadata": {
    "slideshow": {
     "slide_type": "slide"
    }
   },
   "source": [
    "### Необходимый препроцессинг текста"
   ]
  },
  {
   "cell_type": "code",
   "execution_count": 3,
   "metadata": {
    "slideshow": {
     "slide_type": "slide"
    }
   },
   "outputs": [],
   "source": [
    "news_df = pd.DataFrame({'document': documents})\n",
    "\n",
    "# removing everything except alphabets`\n",
    "news_df['clean_doc'] = news_df['document'].str.replace(\"[^a-zA-Z#]\", \" \")\n",
    "\n",
    "# removing short words\n",
    "news_df['clean_doc'] = news_df['clean_doc'].apply(lambda x: ' '.join([w for w in x.split() if len(w)>3]))\n",
    "\n",
    "# make all text lowercase\n",
    "news_df['clean_doc'] = news_df['clean_doc'].apply(lambda x: x.lower())"
   ]
  },
  {
   "cell_type": "code",
   "execution_count": 5,
   "metadata": {
    "slideshow": {
     "slide_type": "slide"
    }
   },
   "outputs": [
    {
     "name": "stdout",
     "output_type": "stream",
     "text": [
      "['i', 'me', 'my', 'myself', 'we', 'our', 'ours', 'ourselves', 'you', \"you're\"]\n"
     ]
    }
   ],
   "source": [
    "from nltk.corpus import stopwords\n",
    "stop_words = stopwords.words('english')\n",
    "print(stop_words[:10])\n",
    "# tokenization\n",
    "tokenized_doc = news_df['clean_doc'].apply(lambda x: x.split())\n",
    "\n",
    "# remove stop-words\n",
    "tokenized_doc = tokenized_doc.apply(lambda x: [item for item in x if item not in stop_words])\n",
    "\n",
    "# de-tokenization\n",
    "detokenized_doc = []\n",
    "for i in range(len(news_df)):\n",
    "    t = ' '.join(tokenized_doc[i])\n",
    "    detokenized_doc.append(t)\n",
    "\n",
    "news_df['clean_doc'] = detokenized_doc"
   ]
  },
  {
   "cell_type": "markdown",
   "metadata": {
    "slideshow": {
     "slide_type": "slide"
    }
   },
   "source": [
    "### До vs. после"
   ]
  },
  {
   "cell_type": "code",
   "execution_count": 6,
   "metadata": {
    "slideshow": {
     "slide_type": "fragment"
    }
   },
   "outputs": [
    {
     "data": {
      "text/html": [
       "<div>\n",
       "<style scoped>\n",
       "    .dataframe tbody tr th:only-of-type {\n",
       "        vertical-align: middle;\n",
       "    }\n",
       "\n",
       "    .dataframe tbody tr th {\n",
       "        vertical-align: top;\n",
       "    }\n",
       "\n",
       "    .dataframe thead th {\n",
       "        text-align: right;\n",
       "    }\n",
       "</style>\n",
       "<table border=\"1\" class=\"dataframe\">\n",
       "  <thead>\n",
       "    <tr style=\"text-align: right;\">\n",
       "      <th></th>\n",
       "      <th>document</th>\n",
       "      <th>clean_doc</th>\n",
       "    </tr>\n",
       "  </thead>\n",
       "  <tbody>\n",
       "    <tr>\n",
       "      <th>0</th>\n",
       "      <td>Barclays' defiance of US fines has merit Barcl...</td>\n",
       "      <td>barclays defiance fines merit barclays disgrac...</td>\n",
       "    </tr>\n",
       "    <tr>\n",
       "      <th>1</th>\n",
       "      <td>How big is Hillary Clinton's lead in the presi...</td>\n",
       "      <td>hillary clinton lead presidential race depends...</td>\n",
       "    </tr>\n",
       "    <tr>\n",
       "      <th>2</th>\n",
       "      <td>Zika’s greatest ally is human intransigence Th...</td>\n",
       "      <td>zika greatest ally human intransigence revenge...</td>\n",
       "    </tr>\n",
       "    <tr>\n",
       "      <th>3</th>\n",
       "      <td>Fight for the right: Cruz and Rubio spar in Ne...</td>\n",
       "      <td>fight right cruz rubio spar nevada trump chall...</td>\n",
       "    </tr>\n",
       "    <tr>\n",
       "      <th>4</th>\n",
       "      <td>Voting day: America finally goes the polls Can...</td>\n",
       "      <td>voting america finally goes polls candidates s...</td>\n",
       "    </tr>\n",
       "  </tbody>\n",
       "</table>\n",
       "</div>"
      ],
      "text/plain": [
       "                                            document  \\\n",
       "0  Barclays' defiance of US fines has merit Barcl...   \n",
       "1  How big is Hillary Clinton's lead in the presi...   \n",
       "2  Zika’s greatest ally is human intransigence Th...   \n",
       "3  Fight for the right: Cruz and Rubio spar in Ne...   \n",
       "4  Voting day: America finally goes the polls Can...   \n",
       "\n",
       "                                           clean_doc  \n",
       "0  barclays defiance fines merit barclays disgrac...  \n",
       "1  hillary clinton lead presidential race depends...  \n",
       "2  zika greatest ally human intransigence revenge...  \n",
       "3  fight right cruz rubio spar nevada trump chall...  \n",
       "4  voting america finally goes polls candidates s...  "
      ]
     },
     "execution_count": 6,
     "metadata": {},
     "output_type": "execute_result"
    }
   ],
   "source": [
    "news_df.head()"
   ]
  },
  {
   "cell_type": "markdown",
   "metadata": {
    "slideshow": {
     "slide_type": "slide"
    }
   },
   "source": [
    "### Построим матрицу $A$"
   ]
  },
  {
   "cell_type": "code",
   "execution_count": 7,
   "metadata": {
    "slideshow": {
     "slide_type": "fragment"
    }
   },
   "outputs": [
    {
     "data": {
      "text/plain": [
       "(4551, 1000)"
      ]
     },
     "execution_count": 7,
     "metadata": {},
     "output_type": "execute_result"
    }
   ],
   "source": [
    "from sklearn.feature_extraction.text import TfidfVectorizer\n",
    "from sklearn.feature_extraction.text import CountVectorizer\n",
    "\n",
    "vectorizer = TfidfVectorizer(stop_words='english', \n",
    "max_features= 1000, # keep top 1000 terms \n",
    ")\n",
    "\n",
    "# vectorizer = CountVectorizer(stop_words=\"english\", max_features=100)\n",
    "\n",
    "X = vectorizer.fit_transform(news_df['clean_doc'])\n",
    "\n",
    "X.shape"
   ]
  },
  {
   "cell_type": "code",
   "execution_count": 8,
   "metadata": {
    "slideshow": {
     "slide_type": "slide"
    }
   },
   "outputs": [
    {
     "data": {
      "text/plain": [
       "(<4551x1000 sparse matrix of type '<class 'numpy.float64'>'\n",
       " \twith 497895 stored elements in Compressed Sparse Row format>, 497895)"
      ]
     },
     "execution_count": 8,
     "metadata": {},
     "output_type": "execute_result"
    }
   ],
   "source": [
    "X, X.nnz"
   ]
  },
  {
   "cell_type": "markdown",
   "metadata": {
    "slideshow": {
     "slide_type": "slide"
    }
   },
   "source": [
    "### Специальное SVD для разреженных матриц!\n",
    "\n",
    "- Для плотных матриц есть функция ```np.linalg.svd```, которая возвращает факторы $U$, $\\Sigma$ и $V$ для точного восстановления матрицы"
   ]
  },
  {
   "cell_type": "code",
   "execution_count": 9,
   "metadata": {
    "slideshow": {
     "slide_type": "fragment"
    }
   },
   "outputs": [
    {
     "name": "stdout",
     "output_type": "stream",
     "text": [
      "7.259708186878224e-15\n"
     ]
    }
   ],
   "source": [
    "import numpy as np\n",
    "n = 10\n",
    "test_x = np.random.randn(n, n)\n",
    "u, s, v = np.linalg.svd(test_x)\n",
    "print(np.linalg.norm(test_x - u @ (s[:, np.newaxis] * v), 2))"
   ]
  },
  {
   "cell_type": "markdown",
   "metadata": {
    "slideshow": {
     "slide_type": "fragment"
    }
   },
   "source": [
    "- Однако у нас матрица разреженная!\n",
    "- Для таких матриц обычно нужны не все сингулярные числа и вектора, а только первые $k \\ll n$\n",
    "- Для этого используются специальные алгоритмы!\n",
    "- Пока же просто вызовём функцию из модуля ```scipy.sparse.linalg``` "
   ]
  },
  {
   "cell_type": "code",
   "execution_count": 10,
   "metadata": {
    "slideshow": {
     "slide_type": "fragment"
    }
   },
   "outputs": [],
   "source": [
    "u, sigma, v = spsplin.svds(X.asfptype(), k=7)"
   ]
  },
  {
   "cell_type": "markdown",
   "metadata": {
    "slideshow": {
     "slide_type": "slide"
    }
   },
   "source": [
    "### Посмотрим на убывание сингулярных чисел"
   ]
  },
  {
   "cell_type": "code",
   "execution_count": 11,
   "metadata": {
    "slideshow": {
     "slide_type": "fragment"
    }
   },
   "outputs": [
    {
     "data": {
      "text/plain": [
       "[<matplotlib.lines.Line2D at 0x1a29b3ce10>]"
      ]
     },
     "execution_count": 11,
     "metadata": {},
     "output_type": "execute_result"
    },
    {
     "data": {
      "image/png": "[encoded data removed]",
      "text/plain": [
       "<Figure size 432x288 with 1 Axes>"
      ]
     },
     "metadata": {
      "needs_background": "light"
     },
     "output_type": "display_data"
    }
   ],
   "source": [
    "plt.plot(sigma[::-1]/sigma[-1])"
   ]
  },
  {
   "cell_type": "code",
   "execution_count": 12,
   "metadata": {
    "slideshow": {
     "slide_type": "slide"
    }
   },
   "outputs": [
    {
     "name": "stdout",
     "output_type": "stream",
     "text": [
      "1000\n",
      "['ability', 'able', 'abortion', 'absolutely', 'abuse', 'accept', 'access', 'according', 'account', 'accounts']\n"
     ]
    }
   ],
   "source": [
    "terms = vectorizer.get_feature_names()\n",
    "print(len(terms))\n",
    "print(terms[:10])"
   ]
  },
  {
   "cell_type": "markdown",
   "metadata": {
    "slideshow": {
     "slide_type": "slide"
    }
   },
   "source": [
    "### Темы и \"главные\" слова для них"
   ]
  },
  {
   "cell_type": "code",
   "execution_count": 13,
   "metadata": {
    "slideshow": {
     "slide_type": "fragment"
    }
   },
   "outputs": [
    {
     "name": "stdout",
     "output_type": "stream",
     "text": [
      "Topic 0: \n",
      "Word: health, score: 0.40862330747376874\n",
      "Word: mental, score: 0.22240931303128725\n",
      "Word: care, score: 0.22169596123074495\n",
      "Word: patients, score: 0.20331924410163693\n",
      "Word: people, score: 0.15992102366539657\n",
      "Word: doctors, score: 0.14215598718119746\n",
      "Word: hospital, score: 0.1325782197669305\n",
      "Word: social, score: 0.11089865675449893\n",
      "Word: says, score: 0.10809725354632962\n",
      "Word: children, score: 0.10648923164782348\n",
      "Topic 1: \n",
      "Word: film, score: 0.48038693031676405\n",
      "Word: films, score: 0.12755665655401316\n",
      "Word: movie, score: 0.1249785732242679\n",
      "Word: director, score: 0.0846370876408235\n",
      "Word: hollywood, score: 0.07996289850111983\n",
      "Word: women, score: 0.07789731411556998\n",
      "Word: health, score: 0.07000273851282515\n",
      "Word: actor, score: 0.06921527165008458\n",
      "Word: said, score: 0.055688664842670044\n",
      "Word: drama, score: 0.055478115562781365\n",
      "Topic 2: \n",
      "Word: bank, score: 0.4979364782266319\n",
      "Word: banks, score: 0.23519917763522913\n",
      "Word: film, score: 0.2138460671932756\n",
      "Word: banking, score: 0.16272477930600338\n",
      "Word: financial, score: 0.13518655479685984\n",
      "Word: customers, score: 0.13361375467294384\n",
      "Word: barclays, score: 0.09739787829341057\n",
      "Word: trump, score: 0.09571568843894401\n",
      "Word: shares, score: 0.09246044420413732\n",
      "Word: deutsche, score: 0.08988615273620267\n",
      "Topic 3: \n",
      "Word: film, score: 0.3008777486682321\n",
      "Word: album, score: 0.09505875638927358\n",
      "Word: music, score: 0.09151156328767963\n",
      "Word: films, score: 0.07990254954089648\n",
      "Word: movie, score: 0.07952808913181729\n",
      "Word: people, score: 0.07305422422365992\n",
      "Word: women, score: 0.06551778556146694\n",
      "Word: life, score: 0.061534968719656045\n",
      "Word: star, score: 0.05829059024275601\n",
      "Word: songs, score: 0.05582461999391681\n",
      "Topic 4: \n",
      "Word: film, score: 0.29264951113026705\n",
      "Word: album, score: 0.162120874899243\n",
      "Word: music, score: 0.14167833830359033\n",
      "Word: like, score: 0.11859514429782779\n",
      "Word: trump, score: 0.11731305923786489\n",
      "Word: songs, score: 0.09516070776394919\n",
      "Word: song, score: 0.09148975042692185\n",
      "Word: league, score: 0.09106050928090748\n",
      "Word: band, score: 0.09034804353161223\n",
      "Word: movie, score: 0.08928878980341992\n",
      "Topic 5: \n",
      "Word: film, score: 0.14869069242217242\n",
      "Word: album, score: 0.07725984306594365\n",
      "Word: music, score: 0.0768396965181208\n",
      "Word: bank, score: 0.0753729219738026\n",
      "Word: league, score: 0.06307938090623946\n",
      "Word: like, score: 0.05864981027876307\n",
      "Word: year, score: 0.05543113559292986\n",
      "Word: health, score: 0.05443673623446011\n",
      "Word: says, score: 0.053874560372268385\n",
      "Word: time, score: 0.052281915523008746\n",
      "Topic 6: \n",
      "Word: trump, score: 0.3080680578109646\n",
      "Word: said, score: 0.22963528489691598\n",
      "Word: people, score: 0.1571069263154853\n",
      "Word: film, score: 0.12902648512763934\n",
      "Word: like, score: 0.12756925625793422\n",
      "Word: says, score: 0.1073069105755821\n",
      "Word: year, score: 0.10410588628273061\n",
      "Word: time, score: 0.10067794459240509\n",
      "Word: clinton, score: 0.09202192385833696\n",
      "Word: bank, score: 0.0868957286570585\n"
     ]
    }
   ],
   "source": [
    "for i, comp in enumerate(v):\n",
    "    terms_comp = zip(terms, comp)\n",
    "    sorted_terms = sorted(terms_comp, key= lambda x:x[1], reverse=True)[:10]\n",
    "    print(\"Topic \"+str(i)+\": \")\n",
    "    for t in sorted_terms:\n",
    "        print(\"Word: {}, score: {}\".format(t[0], t[1]))"
   ]
  },
  {
   "cell_type": "markdown",
   "metadata": {
    "slideshow": {
     "slide_type": "slide"
    }
   },
   "source": [
    "### Темы и \"главные\" документы для них"
   ]
  },
  {
   "cell_type": "code",
   "execution_count": 14,
   "metadata": {
    "slideshow": {
     "slide_type": "fragment"
    }
   },
   "outputs": [
    {
     "name": "stdout",
     "output_type": "stream",
     "text": [
      "[3116 2806 2414 2806 1057  464  658]\n",
      "Topic 0\n",
      "Public Service Awards 2016 health and wellbeing winner: Derventio Housing Trust “Quite often people are in hospital and they’ve got nothing: no food, no clothes, no toiletries,” says Kate Gillespie, Derventio Housing Trust’s strategic lead for its Healthy Futures initiative. “We get all that sorted out, so people at least have a bit of dignity when they are discharged.” That’s just the start of the scheme’s work with homeless people due to leave hospital. Many have multiple, complex needs, such as mental health problems and addictions, and are trapped in a vicious cycle of ongoing health issues and repeat admissions. Over a 12-week period, staff work intensively to find housing for patients, settle them into their new homes and help them live independently – while making better use of primary care, rather than relying disproportionately on acute services. “Sometimes it’s because they don’t manage their health, so they actually get ill enough to need to go in [to hospital] all of those times,” Gillespie says. “We’ve also got people who are going in because it’s their social contact. They’re so isolated that the only kind of love and nurture they get is a trip to A&E, where they get a sandwich and a cup of tea and a ‘there, there’ from the nurses. When someone has nothing else they’re going to keep coming back for it. “It’s like they’ve got a dependency on acute care. We transfer that dependency to us, and then take the time to wean them off it. If we get someone who’s in A&E three times a week, the next step down from that is a walk-in centre. Then their GP, then the pharmacy.” Healthy Futures, which also offers brief interventions to help with the timely discharge of inpatients with less complex housing and support needs, has worked with more than 330 patients since it began in October 2013. Some 170 patients have received ongoing community-based support. In the six months before becoming Healthy Futures clients, those patients had been admitted to acute beds on 487 occasions, had gone to A&E 616 times, and had called 999 and been taken there by an ambulance 364 times. The project has led to an 88% fall in avoidable admissions of clients, a 90% drop in clients’ visits to A&E, and 84% fewer 999 ambulance transfers. Hospital stays have also been cut by an average of 16 days. Two thirds of patients felt their physical health had improved, and the same proportion reported better mental health. Healthy Futures’ achievements come despite working in a climate of cuts to adult social care, at a time when finding housing is harder than ever. Key to getting funding has been its use of robust data proving its impact and efficiency. Patients give consent for their health records to be accessed, so their use of acute care before working with the project can be tracked – and commissioners can clearly see the positive effect. Great staff are also vital, Gillespie says. “They’re just amazingly capable and patient and resourceful. I’m immensely proud of them.”\n",
      " \n",
      "Topic 1\n",
      "Australia's best kept cultural secret: Asia Pacific films land in Brisbane When Islamic State besieged thousands of Yazidi people near Mount Sinjar in northern Iraq in August 2014, the US president, Barack Obama, called in air strikes and Australia, Britain and the US dropped humanitarian aid. As Kurdish fighters picked up their guns, Kurdish film-makers Hussein Hassan and Mehmet Aktaş picked up their cameras, setting aside the film they had been working on to shoot another. They wanted to fight the fear. The Yazidi are Kurdish people with their own particular religion, which they keep alive by not marrying out. Now half a million of them are refugees, many in camps in Turkey. To Isis fighters, the Yazidi religion is an affront. They forced conversion on and massacred thousands of Yazidi men. Yazidi women were taken hostage, raped and auctioned as sexual slaves – maybe 5,000 in all. So far, only about 1,200 have been freed. The Dark Wind, which won the Unesco award at the Asia Pacific Screen awards (Apsas) on Thursday night in Brisbane, is about fear, and about what happens when a young woman is brought back to her family. It’s a love story but also one about masculine honour, about shame, pride and the aftermath of rape. When the film premiered at the Kurdish Film festival in Duhok in September, there was an uproar – Hassan believes some in the Yazidi community misunderstood the film (the heroine’s fate is uncertain until the closing frames). He says the proclamation by Yazidi religious leaders – declaring the women taken hostage by Isis to be without fault or blame – will be the key to their acceptance back into their community. “But there are some, like the father in this film, whose attitudes will not change,” he said. Now celebrating their 10th year in Brisbane, the Apsas – an annual celebration of film from the 70 countries and areas around the region – are one of Australia’s best kept cultural secrets. The Brisbane Asia and Pacific Film festival (BAPFF) now runs concurrently to give audiences access to the films. It is Australia’s least parochial film event. For three glorious days of networking events, film-makers from a vast swathe of the world – from the Russian Federation though the various Stans, the Middle East, India, North and South East Asia, across the Pacific access to China – converge on Brisbane. They may be invisible to Australians fixated on American and European cinema but the event stands alongside the achievement of Brisbane’s Gallery of Modern Art in building Australia’s artistic links with Asia. The academy that runs it now has 1,000 members and the awards draw more entries than the foreign language Oscars. “We’re here for the long haul,” the president of the academy, Jack Thompson, said this week. “Australia is a part of Asia and we are building relationships for the future.” The Dark Wind isn’t the standout film this year: an exquisite, slow burning film from Turkey, Cold of Kalandar, won best film, best cinematography and the first Apsa young cinema award last night. This could well be the start of an Oscar run, as it was with Asghar Farhadi,’s A Separation, which won best feature film at the awards in 2011. Cold of Kalandar is the story of a frustrated dreamer, a middle aged man who toils with his family in unbelievably harsh conditions in the mountains of Northern Turkey. He prospects underground for silver, hoping to find a vein to pay his family’s debts; he refuses to sell his prize bull, entering it instead in contest for fighting bulls. His wife is bitter: she wants him to take a labouring job, pay their debts, find a doctor for their disabled son. Director Mustafa Kara took his lead – unschooled actor Haydar Sisman – to live for three months in a rural village to understand the life of his character, Mehmet. He had him crawling on his belly underground, clinging to a rockface prospecting in bitter sleet, tending cattle, working tools in a homemade forge – all in the bitterest weather. Mehmet and his wife Hanife (Nuray Yesilaraz) voice their frustrations in a wrenching argument midway through the film – it becomes a film with soul. Kara and his young producer Nermin Aktekin politely masked their amusement when I said I had looked in vain to find Kalandar on a map of Turkey. “Kalandar is a month,” Kara explained. “The coldest month of the year, when everything is at its lowest ebb.” It’s interesting that this wrenching depiction of rural poverty should be Turkey’s foreign language Oscar nomination this year, from a country now convulsed by an attempted coup, a counter coup and mass arrests of teachers and the judiciary. When I inquire about the wellbeing of Turkish film-makers I have met here at previous awards, he is sanguine. His film has government support. “No film-makers have been arrested,” he says. And, “yes, they are working.” For the past three years, film-goers have been able to see many of the Apsa-nominated films in a reconstituted Brisbane Asia Pacific Film festival, which opened this week with a rocking glimpse of feminism, Bollywood style. Parched, which was nominated for best screenplay, is the story of four women escaping oppressive marriages in a village in Rajistan. It has the hallmarks of modern Bollywood: towering close-ups, heaving bosoms, melodramatic acting, four beautiful, feisty heroines. The sex scenes (one between women) are ribald, their husbands brutal. Think Thelma and Louise meets Bollywood, with more than a touch of Priscilla Queen of the Desert in production design. The Indian community turned out in force and boogied to Bhangra with the young Brisbane glitterati on opening night. Asia Pacific Screen awards 2016: full list of winners Best feature film: Cold of Kalandar (Kalandar Soğuğu), Turkey, dir. Mustafa Kara Best youth feature film: The World of Us (Woorideul), Republic of Korea, dir. Yoon Ga-eun Best animated feature film: Seoul Station (Seoul-yeok), Republic of Korea, dir. Yeon Sang-ho Best documentary feature film: Starless Dreams (Royahaye Dame Sobh), Islamic Republic of Iran, dir. Mehrdad Oskouei Achievement in directing: Feng Xiaogang for I Am Not Madame Bovary (Wo Bu Shi Pan Jinlian), People’s Republic of China Best screenplay: Ryusuke Hamaguchi, Tadashi Nohara, Tomoyuki Takahashi for Happy Hour, Japan Achievement in cinematography: Cevahir Şahin and Kürşat Üresin for Cold of Kalandar (Kalandar Soğuğu), Turkey, Hungary Best performance by an actress: Hasmine Killip in Ordinary People (Pamilya Ordinaryo), Philippines Best performance by an actor: Manoj Bajpayee in Aligarh, India Special mention: Nawazuddin Siddiqui in Psycho Raman (Raman Raghav 2.0), India Unesco award for cultural diversity: Hussein Hassan for The Dark Wind (Reşeba), Iraq, Qatar, Germany Apsa FIAPF award for outstanding achievement in film in the Asia Pacific region: Iranian producer Manoochehr Mohammadi Jury grand prize: Youn Yuh-jung in The Bacchus Lady (Jug-yeo-ju-neun yeo-ja), Republic of Korea Mark Lee Ping-bing for Crosscurrent (Chang Jiang Tu), People’s Republic of China Special mention: Sunny Pawar in Lion, Australia Netpac and Griffith film school’s young cinema award: Mustafa Kara for Cold of Kalandar (Kalandar Soğuğu), Turkey, Hungary Special mention: Bi Gan for Kaili Blues (Lu Bian Ye Can), People’s Republic of China • The Brisbane Asia Pacific Film festival runs until 4 December • Julie Rigg was hosted by the Apsas\n",
      " \n",
      "Topic 2\n",
      "Battered banks poised to reveal whether a new crisis has begun Fears that the banking sector is facing a new onslaught of pressures dominated markets last week. Global bank shares were sold off – the index of major banking shares in the UK at one point hit its lowest levels since the depths of the recession – and questions were being asked about the impact of low interest rates amid concerns about the possibility of a global economic slowdown. While much of the focus was on big banks in the eurozone – Deutsche and Société Générale – analysts pointed out that the share prices of UK banks were already pricing in another global financial crisis when it hadn’t even happened. So when the UK’s major players reveal in the coming weeks how they have fared in 2015, they will be doing so in the most febrile atmosphere since the Lehman Brothers collapse seven-and-a-half years ago. Analysts will be looking for confirmation that another 2008-style crisis is not about to the grip the sector. The gloom may well be overdone. The stock market value of some of Britain’s biggest banks is lower than the value of their assets, notably HSBC, Standard Chartered and Barclays. HSBC – one of the biggest constituents of the FTSE 100 – has been trading at levels not seen since 2009. Standard Chartered is selling for prices last witnessed a quarter of a century ago. In the depths of last weeks’s market chaos, shares in Barclays and Royal Bank of Scotland hit their lowest levels since 2012 while George Osborne has already had to postpone his plan to sell off shares in Lloyds Banking Group to the public. However, the bombed-out banks came off their lows by the end of last week, and analysts point out that all hold more capital – the key measure of their financial health – than they did before the start of 2008. The results of stress tests on the major players announced in December by the Bank of England showed that they were all strong enough to withstand a downturn, and Threadneedle Street said it was not concerned about the strength of the system. Analysts have calculated that Europe’s banks are holding €700m worth of capital more than they were at the time of the last crisis and have disposed of their riskiest assets. So financial strength shouldn’t be a problem, and no one is expecting to hear the likes of Barclays, HSBC or Lloyds report losses. However, there are headwinds. The ability of banks to generate revenue will be a focus; the low interest rate environment is punishing them as it restricts the profits on their lending. Any sign that provisions for bad debts are starting to go up dramatically will be regarded with concern, while banks are expected to set aside more money to cover scandals, such as the mis-selling of payment protection insurance (PPI). Investors will be watching for any impact on the payouts they receive through dividends – particularly how that compares with the total spent on staff bonuses. Many banks are expected to publish annual reports alongside their results, showing remuneration for board members. HSBC The board of Britain’s biggest bank met on Sunday to decide whether to shift its headquarters out of London to another location, most likely Hong Kong. Once that decision is out of the way – with expectations that HSBC will decide to stay put – the focus returns to the 2015 results. Chief executive Stuart Gulliver last week gave clues to his view of the market outlook. As he went back on a staff pay freeze, he warned workers of the “very challenging operating environment”. Gulliver is already six months into a plan to cut staff numbers by 25,000 and save $5bn (£3.5bn). The City will now be wanting progress on these cost reduction measures and an update on the impact of slowing growth in China, where Gulliver is targeting expansion. So what is the problem with the underperforming share price? Ian Gordon, analyst at Investec bank, says it indicates that the City is braced for a rise in bad debts in emerging markets. In the third quarter, Gulliver stressed that while revenues were down, credit quality was not being affected. He has received at least £7m a year in pay since taking the helm in 2011. His pay, and that of his 250,000 staff, will also be in focus. Standard Chartered Fears over the strength of emerging markets have been a key factor in this year’s stock-market gyrations, so analysts are wondering if a bank focused on those economies can have made a profit in 2015. Standard Chartered has its own problems, which new chief executive Bill Winters has tried to address by tapping shareholders for £3.3bn and putting 15,000 jobs on the line. Even so, the market is valuing the bank at 0.4 times the value of its assets, as the stock trades at a 25-year low. Winters has embarked on a major restructuring, reducing exposure to China and commodities. The bank is also being more selective about the customers to which it lends and is ending $20bn of loans to a handful of customers. Any signs that this restructuring is slowing down or that bad debts are rising could further unnerve investors, while the bank has already warned it remains in the regulatory spotlight after a 2012 fine from US authorities over breaches of sanctions. “Standard Chartered’s earnings have been under sustained pressure for the past two years, and we expect little respite from the full-year 2015 results,” said analysts at Barclays. “Underlying earnings are likely to suffer from difficult trading conditions, a slowing economic environment and further declines in commodity prices. The recently announced restructuring is likely to add to these headwinds, disrupting underlying business performance and leading to significant restructuring charges.” Lloyds Banking Group The market rout has driven shares in Lloyds to 57p, their lowest price since April 2013, quashing any short-term chance of the government further selling its stake in the bank, which was bailed out in 2008 with £20bn of taxpayer money. That stake has fallen from 43% to below 10%, and the bank will hope it can convince investors that its ability to generate dividends will put fuel back into the shares. But hanging over the bank is the prospect of another provision for PPI – its bill is already over £13bn. Analysts at Jefferies said the extra PPI provision, which they believe could amount to £2bn in the fourth quarter, would make it difficult for Lloyds to promise any special dividends. The bank acts as a barometer of the UK economy and is also the UK’s biggest mortgage lender, so any signs that lending is slowing down or house prices tanking will worry FTSE investors. Royal Bank of Scotland The biggest casualty of the 2008 banking crisis is yet to report a full-year profit since taxpayers pumped in £45bn to keep it afloat. Last month, Ross McEwan, the chief executive, admitted that 2015 would be its eighth consecutive loss-making year as the bank issued an unscheduled announcement warning ofa string of charges relating to PPI and a long list of litigation in the US relating to residential mortgage-backed securities (RMBS). The losses it has reported since 2008 already exceed the £45bn used to prevent it from collapsing. Uncertainty surrounding the cost of these fines is a concern for investors, alongside penalties related to the mortgage securities cases, for which it has set aside £3.8bn. This is holding back the bank’s ability to make payouts to investors, which might help bolster the shares. They have plunged to 2012 lows and have been trading at 230p – 100p below the price at which Osborne sold off the first tranche in August. Barclays Shares are back where they were when former chief executive Bob Diamond was forced out during the 2012 Libor-rigging scandal. Antony Jenkins, promoted to replace Diamond, has also been ousted and replaced with the US banker Jes Staley, who will be making his first presentation when the bank announces its 2015 results. He is facing calls to embark on a major overhaul. Analysts at stockbroker Bernstein have already urged him to get Barclays out of Africa, sell the US credit card business and float the investment bank in the US. The investment bank, once its powerhouse, is likely to be the focus. Investec’s Gordon says Barclays has already signalled that investment banking revenues fell 10% in the fourth quarter of last year. Some 1,200 job cuts in the division have already been earmarked and more focus on cost-cutting its expected. In addition, Staley faces a major challenge in complying with UK rules requiring banks to ringfence their high-street banks from their investment banking operations. Analysts at Jefferies expect Barclays to incur another £1bn of costs to implement the ringfence and another £1bn PPI charge for the last three months of 2015.\n",
      " \n",
      "Topic 3\n",
      "Australia's best kept cultural secret: Asia Pacific films land in Brisbane When Islamic State besieged thousands of Yazidi people near Mount Sinjar in northern Iraq in August 2014, the US president, Barack Obama, called in air strikes and Australia, Britain and the US dropped humanitarian aid. As Kurdish fighters picked up their guns, Kurdish film-makers Hussein Hassan and Mehmet Aktaş picked up their cameras, setting aside the film they had been working on to shoot another. They wanted to fight the fear. The Yazidi are Kurdish people with their own particular religion, which they keep alive by not marrying out. Now half a million of them are refugees, many in camps in Turkey. To Isis fighters, the Yazidi religion is an affront. They forced conversion on and massacred thousands of Yazidi men. Yazidi women were taken hostage, raped and auctioned as sexual slaves – maybe 5,000 in all. So far, only about 1,200 have been freed. The Dark Wind, which won the Unesco award at the Asia Pacific Screen awards (Apsas) on Thursday night in Brisbane, is about fear, and about what happens when a young woman is brought back to her family. It’s a love story but also one about masculine honour, about shame, pride and the aftermath of rape. When the film premiered at the Kurdish Film festival in Duhok in September, there was an uproar – Hassan believes some in the Yazidi community misunderstood the film (the heroine’s fate is uncertain until the closing frames). He says the proclamation by Yazidi religious leaders – declaring the women taken hostage by Isis to be without fault or blame – will be the key to their acceptance back into their community. “But there are some, like the father in this film, whose attitudes will not change,” he said. Now celebrating their 10th year in Brisbane, the Apsas – an annual celebration of film from the 70 countries and areas around the region – are one of Australia’s best kept cultural secrets. The Brisbane Asia and Pacific Film festival (BAPFF) now runs concurrently to give audiences access to the films. It is Australia’s least parochial film event. For three glorious days of networking events, film-makers from a vast swathe of the world – from the Russian Federation though the various Stans, the Middle East, India, North and South East Asia, across the Pacific access to China – converge on Brisbane. They may be invisible to Australians fixated on American and European cinema but the event stands alongside the achievement of Brisbane’s Gallery of Modern Art in building Australia’s artistic links with Asia. The academy that runs it now has 1,000 members and the awards draw more entries than the foreign language Oscars. “We’re here for the long haul,” the president of the academy, Jack Thompson, said this week. “Australia is a part of Asia and we are building relationships for the future.” The Dark Wind isn’t the standout film this year: an exquisite, slow burning film from Turkey, Cold of Kalandar, won best film, best cinematography and the first Apsa young cinema award last night. This could well be the start of an Oscar run, as it was with Asghar Farhadi,’s A Separation, which won best feature film at the awards in 2011. Cold of Kalandar is the story of a frustrated dreamer, a middle aged man who toils with his family in unbelievably harsh conditions in the mountains of Northern Turkey. He prospects underground for silver, hoping to find a vein to pay his family’s debts; he refuses to sell his prize bull, entering it instead in contest for fighting bulls. His wife is bitter: she wants him to take a labouring job, pay their debts, find a doctor for their disabled son. Director Mustafa Kara took his lead – unschooled actor Haydar Sisman – to live for three months in a rural village to understand the life of his character, Mehmet. He had him crawling on his belly underground, clinging to a rockface prospecting in bitter sleet, tending cattle, working tools in a homemade forge – all in the bitterest weather. Mehmet and his wife Hanife (Nuray Yesilaraz) voice their frustrations in a wrenching argument midway through the film – it becomes a film with soul. Kara and his young producer Nermin Aktekin politely masked their amusement when I said I had looked in vain to find Kalandar on a map of Turkey. “Kalandar is a month,” Kara explained. “The coldest month of the year, when everything is at its lowest ebb.” It’s interesting that this wrenching depiction of rural poverty should be Turkey’s foreign language Oscar nomination this year, from a country now convulsed by an attempted coup, a counter coup and mass arrests of teachers and the judiciary. When I inquire about the wellbeing of Turkish film-makers I have met here at previous awards, he is sanguine. His film has government support. “No film-makers have been arrested,” he says. And, “yes, they are working.” For the past three years, film-goers have been able to see many of the Apsa-nominated films in a reconstituted Brisbane Asia Pacific Film festival, which opened this week with a rocking glimpse of feminism, Bollywood style. Parched, which was nominated for best screenplay, is the story of four women escaping oppressive marriages in a village in Rajistan. It has the hallmarks of modern Bollywood: towering close-ups, heaving bosoms, melodramatic acting, four beautiful, feisty heroines. The sex scenes (one between women) are ribald, their husbands brutal. Think Thelma and Louise meets Bollywood, with more than a touch of Priscilla Queen of the Desert in production design. The Indian community turned out in force and boogied to Bhangra with the young Brisbane glitterati on opening night. Asia Pacific Screen awards 2016: full list of winners Best feature film: Cold of Kalandar (Kalandar Soğuğu), Turkey, dir. Mustafa Kara Best youth feature film: The World of Us (Woorideul), Republic of Korea, dir. Yoon Ga-eun Best animated feature film: Seoul Station (Seoul-yeok), Republic of Korea, dir. Yeon Sang-ho Best documentary feature film: Starless Dreams (Royahaye Dame Sobh), Islamic Republic of Iran, dir. Mehrdad Oskouei Achievement in directing: Feng Xiaogang for I Am Not Madame Bovary (Wo Bu Shi Pan Jinlian), People’s Republic of China Best screenplay: Ryusuke Hamaguchi, Tadashi Nohara, Tomoyuki Takahashi for Happy Hour, Japan Achievement in cinematography: Cevahir Şahin and Kürşat Üresin for Cold of Kalandar (Kalandar Soğuğu), Turkey, Hungary Best performance by an actress: Hasmine Killip in Ordinary People (Pamilya Ordinaryo), Philippines Best performance by an actor: Manoj Bajpayee in Aligarh, India Special mention: Nawazuddin Siddiqui in Psycho Raman (Raman Raghav 2.0), India Unesco award for cultural diversity: Hussein Hassan for The Dark Wind (Reşeba), Iraq, Qatar, Germany Apsa FIAPF award for outstanding achievement in film in the Asia Pacific region: Iranian producer Manoochehr Mohammadi Jury grand prize: Youn Yuh-jung in The Bacchus Lady (Jug-yeo-ju-neun yeo-ja), Republic of Korea Mark Lee Ping-bing for Crosscurrent (Chang Jiang Tu), People’s Republic of China Special mention: Sunny Pawar in Lion, Australia Netpac and Griffith film school’s young cinema award: Mustafa Kara for Cold of Kalandar (Kalandar Soğuğu), Turkey, Hungary Special mention: Bi Gan for Kaili Blues (Lu Bian Ye Can), People’s Republic of China • The Brisbane Asia Pacific Film festival runs until 4 December • Julie Rigg was hosted by the Apsas\n",
      " \n",
      "Topic 4\n",
      "The lost albums loved by the stars – from ecstatic gospel to Italian prog Jarvis Cocker on … Bob Lind: The Elusive Bob Lind (Verve Folkways, 1966) I hesitate to recommend this record because I know that Bob Lind himself hates it and that it did a lot of harm to his career – but I love it, so here goes … This is the story as I understand it: Lind had a massive global hit with Elusive Butterfly in 1965. Someone crawled out of the woodwork and sold some acoustic demo recordings he had made a few years earlier as a teenager to Verve Records. Verve decided to add bass, drums and strings to the songs, which consisted of voice and acoustic guitar only, in order to make them sound more like the single he had in the charts. The whole affair reeks of the worst side of the exploitative music business of those days – and yet … somehow they made something beautiful. It’s like a weird, inverted form of sampling: instead of cutting and pasting the vocals and guitar over a steady rhythm track – as would happen today – Lind’s performances speed up, slow down, have irregular bar counts, and the bass and drums just have to follow him as best they can. So the songs end up with very modern-sounding, unusual structures. The dislocation between the various elements emphasises the loneliness in the songs. It has an absolutely unique atmosphere – the voice is swathed in a 50s-style reverb, the instrumentation and string arrangements are very mid-60s, but when they lock into a groove and trance out (like on What Colour Are You?) it could have been made last week. It’s not only my favourite Bob Lind album; it’s one of my favourite albums, full stop. Go figure. Izzy Bizu on … Ala.Ni: You & I (No Format, 2016) Ala.Ni is from London but lives in Paris and she has sung with Damon Albarn and Mary J Blige but I love her own music. It reminds me of old songs such as Dream a Little Dream of Me. I saw her playing in this bar, like some cool 1940s nightclub, and she started singing at really low volume, and it was so beautiful I fell in love with her. A few years later I was on the Eurostar and I saw her walking past and I was like: “Oh my God, it’s the girl from the bar!” So I said hi and told her I loved her music. Then I saw her again at a festival and she was incredible. The sounds she uses, the mic she uses, it’s really “old” and the way she sings is really conversational. She even uses her hands in a really elegant way. Listening to her is like having a big hug; you feel like you have had a massage. Saul Milton of Chase & Status on … Angus & Julia Stone: Down The Way (Capitol, 2010) You would expect us to be constantly listening to drum’n’bass, the Prodigy, Biggie Smalls and bashment but we have a wide spectrum of music that we love. We were touring America in 2011 for our No More Idols tour and our frontman MC Rage put this on our tourbus and this incredible tune called Big Jet Plane came on. The beautiful music and combination of male and female voices really touched me. It became the soundtrack to the tour and since then I’ve followed their career and got all their records. Fans of folky funk with classic songwriting and modern production – Bon Iver fans, for example – will love it. Sarah Cracknell of Saint Etienne on … Laura Nyro: Eli and the Thirteenth Confession (Columbia, 1968) She doesn’t have the recognition that she’s due. Other people, such as Barbra Streisand and the 5th Dimension, had hits with her songs: she was a bit of a Carole King. This was her second album – she was 20 at the time. She had so much passion in her songwriting, her voice and her arrangements. Very theatrical, in a way: she clearly influenced Kate Bush. I love the changes in tempo – these are songs of many parts. Her singing style was a mixture of jazz, gospel, soul and pop. But she had a real fear of performing live that stemmed from a disastrous appearance at the Monterey festival. She retreated from the limelight after that, although she carried on making records such as the cover versions album Gonna Take a Miracle, with Labelle, which is another brilliant album. Tom Ogden of Blossoms on … Dion: Born To Be With You (Phil Spector Records, 1975) Phil Spector produced six of the tracks; I’m a big fan of his Wall of Sound. Spector was drinking a lot and quite fucked-up when he was making this record. Dion disowned it and he faded into obscurity. He described it as “funeral music”. I think it’s a great pop record: grand and epic. It’s got that Be My Baby sound, with a lot of the Wrecking Crew on. I love Only You Know and In and Out of the Shadows, which were both co-written by Spector and Gerry Goffin, who used to write with Carole King. It was actually James Skelly of the Coral, who produced our album, who put me on to it. Musicians love it, such as Bobby Gillespie and Pete Townshend. And Bruce Springsteen, who visited the studio during the recording of it. It’s got an uplifting melancholy to it, a euphoric heartbreak –an atmosphere I’m always trying to recreate. Moby on … Simple Minds: Sons and Fascination/Sister Feelings Call (Virgin, 1981) This album charted when it was released, but over time has slipped gently into quasi-obscurity. Simple Minds went on to become a stadium rock band, leading most people to forget that before super-stardom they were idiosyncratic, electronic and Bowie-influenced. I first heard this in early 1982 when I was a junior at high school in Darien, Connecticut, and for me it was everything that suburban America in 1982 was not. It was atmospheric, weirdly European and disco-influenced at a time when radio in the States was all shiny American pop and pedantic rock. It’s a remarkable record that deserves its place in the canon of great Bowie-inspired albums. Jim Kerr of Simple Minds on … Robert Wyatt: Nothing Can Stop Us (Rough Trade, 1982) This is without doubt one of my favourite albums. Before its release, Robert Wyatt was known to me as drummer and co-vocalist of Soft Machine, through listening to John Peel, who almost single-handedly championed him throughout his solo career. Peel brought Wyatt further attention, particularly in 1983 when his original version of Elvis Costello and Clive Langer’s Falklands war-inspired song Shipbuilding reached No 2 in his Festive 50. By that time, I was already well under the influence of Nothing Can Stop Us. It was on my Walkman throughout that summer, usually as I hoofed it on a daily basis from Paddington up to Shepherd’s Bush, where my mates and I were busy occupying ourselves with the recording of a bunch of songs that would be released as New Gold Dream. I loved listening to the album in its entirety, and repeatedly so. I still do. Why? You could begin by listening to At Last I Am Free, followed by Strange Fruit, and then the aforementioned Shipbuilding. And perhaps like me you, too, will get a lump in the throat listening to what was surely a purposefully pale and wan rendition of Red Flag. I don’t think Robert Wyatt knows how great an artist he really is. Green Gartside of Scritti Politti on … The Clark Sisters: Is My Living In Vain (Sound of Gospel, 1980) This was given to me by a writer I met in New York in about 1982: this recording of rapturous devotion to God has abided with me ever since. It’s so good … it almost passeth all understanding. Taped live in 1979 at Detroit’s Bailey Cathedral, Elbernita “Twinkie” Clark with her four sisters and their mother, group founder Dr Mattie Moss Clark, perform some of the most ineffably sublime music I have ever heard. As funky as grandpa’s drawers and with an ecstatic sense of yearning, the sisters’ goosebump-inducing singing – sometimes fragile, sometimes fearsome – is put to the service of eight exquisitely crafted paeans to the Lord. You can find a clip of the sisters in their floor-length pastel chiffon gowns performing a version of the album’s title song on YouTube, which is magnificent but only hints at the record’s treasures. In 1983, the Clark Sisters performed at the Grammys, provoking the ire of their church, which forbade Mattie Moss from ever performing with her daughters again. Her singing of They Were Overcome on this album is one of the loveliest things I know. A couple of years after I was first given the record, the sisters came to London to sing at [the] Westminster Hall. After their astonishing appearance I approached them to express my admiration and gratitude. I was invited to visit the family next day at a house in Tottenham, or maybe it was Finsbury Park. I’m sure I was a nuisance but they were gracious and I was blessed with some albums from their back catalogue. Is My Living In Vain is an exalted delight and is up there with the venerated best. Petite Meller on … The Clark Sisters: You Brought the Sunshine (Sound of Gospel, 1981) I was recommended these sisters by a female Uber driver in LA; I’d just played my song Baby Love to her. It was my best musical ride. She heard the gospel vocals in my song and said: “You’ve got to hear these girls!” They’re sisters who sing these big gospel songs with so much energy and love. It’s inspiring to listen to as it gives me ideas. I love the rawness of the recordings from those days. Go find them … you won’t regret it. Naughty Boy on … Nitin Sawhney: Beyond Skin (Outcaste, 1999) I was in the sixth form when I came across this. I was working in Watford WH Smith in the music department, and I’d get 25% discount, so I ordered it in and used to listen to it on my PlayStation because I didn’t have a CD player. I was fascinated because Sawhney was British-Asian, too: I didn’t think it was possible to make Asian sounds and still be cool. On the surface, the album was about nuclear weapons, but really it was about a personal quest to find yourself, with lots of songs about love. It’s quite dark, but the lyrics are full of light. He was refusing to be bound by any rules. He combined flamenco music with Qawwali, jazz with drum’n’bass. It made me ultimately brave. Once I’d finished sixth form, I was ready to start my journey as a composer and producer. Being boxed-in wasn’t an option because of this album. Sean Paul on … Buju Banton: ’Til Shiloh (Loose Cannon/Island, 1995) I bought this at the Derrick Harriot record shop in Kingston, Jamaica. It was one of the few stores that would carry albums as soon as they were released; they used to rent movies on VHS as well, so it was a popular spot. When it came out, Buju was already a dancehall superstar but it took him to a different level. Most dancehall albums at that time were usually a collection of hits that were already out but this was made up of new material. When I got home and put it on the stereo, it was mind-blowing. Buju was in full-on rasta mode and every single song was absolute fire. The consciousness was turned all the way up. Even on the party songs and girl tunes he was talking from a higher perspective. Champion and Murderer may have been the hardcore boom shots that everyone knows but Til I’m Laid to Rest and Not an Easy Road spoke to me deeply and truly inspired me even more to pursue music. Everyone needs to listen to this dancehall reggae gem and see who Buju Banton really is. Faris Badwan of Cat’s Eyes and the Horrors on … Faine Jade: Introspection: A Faine Jade Recital (Sandiland, 1968) This is one of my favourite psychedelic records – and one of the rarest. Get it now! It has the visceral edge of the Velvet Underground in places and the wistfulness of Syd Barrett in others. Faine Jade is effectively a solo project from Chuck Laskowski, a Long Island-based singer and guitarist who previously released one single with the Rustics in 1966. Barrett similarities run through the record; one of my favourite things about Syd’s songs is the feeling that they could go in any direction, at any moment. They are totally tense, raw and unpredictable, and the songs on Introspection follow a similar creative path. Laskowski claims to have been unaware of Pink Floyd at the time, which is totally believable as the tracks never stray into homage territory. While seeking to emulate some of the British psych sounds of the time, Introspection retains the identity of late-60s amphetamine-driven US garage. Don’t Hassle Me captures the spirit of rebellious youth, and Ballad of the Bad Guys is a burst of garage rock that Between the Buttons-era Rolling Stones fans will be into. The tension reaches its height on People Games Play, a song that combines the “ostrich guitar” strumming of Lou Reed with familiar late-60s percussion and unsettling, monotone vocals. There’s definitely a bit of the Byrds in here as well. The lyrics are fairly typical of the Timothy Leary era, with mystical lines such as, “Trim the wick with scarlet scissors,” but they fit the mood. Laskowski went on to release an album with the country rock band Dustbowl Clementine in 1970 but has since been largely inactive. More recently, Faine Jade gained wider exposure as MGMT covered the folk-rock title track Introspection on their debut Oracular Spectacular. Laskowski even gave his seal of approval by appearing with them on the closing date of their accompanying US tour. Petula Clark on … Michel Colombier: Wings (A&M, 1971) Herb Alpert produced this album, mostly in LA and Paris. It was a hugely expensive project, a mixture of jazz, rock, symphonic, with fantastic people on it – Bill Medley, Paul Williams – and some great jazz musicians. It’s one of those masterpieces that isn’t what you’d call a commercial record, but it’s one of my favourites. I love Herb, and Michel, who was a great composing talent. It was a bit of a love-in! There’s some amazing music on it: very moving – there’s a song on it called Emmanuel, for Michel’s son, who died very young – but it also rocks like mad. It was very personal to Michel, who was a very unusual musician. He was often in another place, another world. It was made for pure pleasure. You could call it a kind of folly. Alexis Taylor of Hot Chip on … Franco Battiato: Foetus (Sony/BMG Italy, 1971) It’s progressive rock but more short song-based than overblown 15-minute rock like Yes, Genesis or ELP. He’s a composer and songwriter who’s still one of Italy’s best-known musicians; a sort of Italian Peter Gabriel. He moved away from this strange experimental record towards a more poppy, new wave direction; Foetus is his first solo album. It’s a very beautiful-sounding, analogue synth-based record, but also very pop: the songs are very immediate, melodic and easy on the ear. The Italian version was the first one I really loved; then I came across the English version and that suddenly opened it up; now I knew what the songs were about. It’s a very original take on describing your place in the world; not your usual singer-songwriter confessionals. It’s similar to the experimental pop approach of a Brian Wilson mixed with someone like Jim O’Rourke from 90s underground Chicago. Alexis Krauss of Sleigh Bells on … Eccentric Soul: The Deep City Label (Numero Group, 2006) The Numero Group collect really old compilations from obscure labels no longer in existence. This album is all of the tracks from a soul label based in Miami called Deep City; most of the music is mid-to-late-60s. A lot of the players were part of Florida marching bands – the cover of the album shows them wearing the most sick, badass uniforms – who later went on to run more successful studios that released funk and disco. This predates that stuff; it’s tracks that had no commercial success, but it does feature artists such as Betty Wright. It’s similar to what was going on in Detroit, only a little funkier. It’s a little rough around the edges, but if you like old soul, it’s great. Andrew Savage of Parquet Courts on … The Necessaries: Event Horizon (Sire, 1982) This is a record that has even evaded diehard fans of Arthur Russell, who played keyboards in the group during their short lifespan and wrote two of the album’s best songs: Driving and Talking at the Same Time and More Real. When I listen to Event Horizon, I marvel that it isn’t one of the most influential records in rock music. But it didn’t make the impact it intended to, and was forgotten by Sire and eventually by fans. Russell went on to a celebrated solo career after quitting the band by jumping out of the van at the mouth of the Holland Tunnel in New York, while on the way to a gig in New Jersey. But this is a record that needs to be examined further by anybody interested in this era of rock music. It’s an elusive missing piece to the lore of the downtown scene. Everyone who walks through the door of my apartment is subjected to and is changed by it. Mark Stewart of the Pop Group on … The Fire This Time: Dancing On John Wayne’s Head (Extreme, 1995) It’s a shining example of an activist-musician using art as a weapon. The guy who got it together is Pat Andrade, who organises indigenous resistance, helping Aboriginal people, with songs about native rights issues and the way corporations own the government. In the punk days, people tended to wear politics like a haircut, but Pat actually walks what he talks. He was influenced by us [Pop Group/On-U Sound] to a certain extent. There are loads of guests – Augustus Pablo, Chuck D, Mikey Dread – on this album. He’s a real internationalist; a dub activist. It’s resistance through reggae. What he’s talking about is really real. Charlie Simpson of Busted and Fightstar on … Aereogramme: A Story In White (Chemikal Underground, 2001) When people talk about artists who don’t get the recognition they deserve, Aereogramme are always the first band I think of. It’s a stunning record, so different to anything I’d heard before: atmospheric, with beautiful melodies and really heavy riffs. I got into Mogwai through my brother when I was 11 or 12 and I thought it would be great to have that sort of music with vocals and Aereogramme did just that. I love the contrast of light and dark. It was definitely an influence on Fightstar. Funnily enough, Iain Cook the guitarist, is now in Chvrches, so he did finally get some recognition. Shirley Manson of Garbage on … Hey! Elastica: In on the Off Beat (Virgin, 1984) They were my peers growing up in Edinburgh. I had a massive crush on Giles, the singer with the thunderbolt hair: she was like a rock star, with incredible charisma and an image that would still look killer today. Back then she appeared to come from Mars: she was like a female David Bowie to me. I worked in Miss Selfridge and she came into the store one day and I kept staring at her. Later I got introduced to her at a club and became obsessed with her and her band. I still think they deserve more recognition; they were a fantastic pop band. The record was produced by Tony Visconti and Martin Rushent, and the result is a strange mix of white funk, jangly 80s guitar, catchy pop and synths, with girl group harmonies and some “alternative” flavour. They flamed brightly for a few minutes then seemed to disappear, but they’re really unique. Rebecca Ferguson on … Lisa Gerrard: The Best of (4AD, 2007) She used to sing with Dead Can Dance. She is kind of classical and sings in her own language that she makes up. She works a lot with Hans Zimmer and she’s just unreal. She did the theme from Gladiator, Now We Are Free. That made me want to find out more about her. I really like the song Sanvean (I Am Your Shadow). It’s quite dark; heavy and emotional. It creates a mood and it’s moving. To me, she’s one of the best vocalists of all time. If someone went on The X Factor and sang Now We Are Free, it would be unbelievable. It’s whether the audience are ready for that. Gilbert O’Sullivan on … Carole King: Writer (Ode, 1970) This was Carole King’s album before Tapestry, which I don’t think anybody bought apart from me and a couple of other people. She made an album before it, in 1968, with a group called the City because she didn’t really like being a frontperson. But Writer was significant because it was the prelude to Tapestry. There are some wonderful songs here such as Up on the Roof and Goin’ Back – covers of her own songs. But the album only sold about 10 or 20,000 whereas Tapestry sold 10 or 20m! James Taylor is on it, and [guitarist] Danny Kortchmar; a lot of the same people who were on Tapestry. It’s a really lovely album. It definitely influenced my writing, particularly the chord sequences on Child of Mine. If I’d grown my hair and worn jeans and a denim shirt I would have easily fitted into that category of singer-songwriter. But I dared to be different and chose an unusual image. Stuart Braithwaite of Mogwai on … Abner Jay: True Story of Abner Jay (Mississippi, 2009) This is the only record I own that I love that has jokes on. I tend to like miserable, depressing, pretentious music. Abner Jay was a one-man-band, who classed himself as an entertainer – “The last great southern black minstrel show,” as he described himself. He’d move from town to town, selling vinyl records and cassettes that he published on his own label. It’s folk-blues; the kind of thing that, when you hear it, you can’t believe it hasn’t sold a million copies. It’s a guy singing his heart out, playing amazing music. The songs are absolutely incredible, poignant, dark, really captivating and wild. He wrote them about Vietnam, cocaine, the moon landing. My favourite one on this album is I’m So Depressed. That’s the one that blew me away. I’m not sure if it’s a joke, but it’s really moving.\n",
      " \n",
      "Topic 5\n",
      "Amma Asante: ‘I’m here to disrupt expectations’ Amma Asante is drinking tea – “If you have PG Tips, all the better,” she calls to the retreating waiter – in the plush quietness and gleaming surfaces of London’s Cafe Royal. Despite traffic jams and torrential rain, she is impeccably calm, certainly calmer than many film-makers would be had their latest production been selected to open this year’s London film festival. But Asante, whose previous films A Way of Life and Belle garnered her high praise and multiple awards, including a Bafta, is clearly a star in the making – and possibly also a star-maker; Gugu Mbatha-Raw, whom she cast in her breakthrough part as the title character in Belle, has just appeared opposite Matthew McConaughey in the American civil war drama Free State of Jones. Earlier this year Asante was also invited to become a member of the US Academy of Motion Picture Arts and Sciences, which has had its biggest ever intake of new members following intense criticism over the lack of racial diversity in Oscar nominees. In joining a Hollywood club with a decades-long reputation for being largely white, male and aged over 50, she’ll now have voting rights on the Oscars, and a part to play in steering the industry and what comes to our screens in the future. For the moment, though, she’s concentrating on A United Kingdom, which had an unexpected – and even inconvenient – genesis. About 18 months ago, Asante was about to move not only home but also country, quitting the Netherlands, where she had lived for eight years, in favour of Denmark, where her husband is from. Amid all the upheaval and readjustment the phone rang. At the other end was actor David Oyelowo, whom Asante had known since they worked together on the BBC drama Brothers and Sisters back in 1998. Oyelowo, fresh from playing Martin Luther King in Selma, wanted to persuade her to be part of an idea whose moment had come – “a labour of love”, as he described it. The project was to film the life of Seretse Khama and Ruth Williams, the first prime minister of Botswana and his wife, an office clerk from Eltham. Their marriage, in 1948, when Botswana was still the British protectorate of Bechuanaland, had immense ramifications, both personal and political: Khama, who had met Williams at a missionary society dance in London, had been supposed to return from his stint at Balliol College, Oxford and subsequent studies for the bar to take up the kingship of the Bamangwato people. He was not supposed to return with a white, English bride, and particularly not just as neighbouring South Africa had made interracial marriage illegal under the apartheid system; her arrival angered both Bamangwato chiefs and many who couldn’t believe that their future leader would choose an outsider above a local. Ruth Williams’s family also opposed the marriage, and there was vehement objection from the British government, enraged by what they saw as a dangerous misstep in managing regional relationships. Oyelowo had first come across Susan Williams’s book Colour Bar, on which the film is based, in 2010, through producers Justin Moore-Lewy and Charlie Mason, who had acquired the rights. Since then, the three had struggled to get the project, with Oyelowo playing Khama, off the ground. But the story of Khama, Williams and Bechuanaland’s gradual journey towards independence immediately struck a chord with Asante, fresh from her success with the recently released Belle, which also drew on a complex piece of history to explore relationships across racial divides. Her father, she tells me, was a pan-African, a man who believed in a united states of Africa. “He grew up in Ghana when it was still the Gold Coast; grew up, as my mother did, as the child of a colony, and watched it become independent. And Ghana was the first sub-Saharan country to gain its independence, so we always lived with that badge on our chest; I was always raised knowing that was the country that I came from. I grew up being able to repeat – at seven or eight years old — the speeches of Kwame Nkrumah, who became the first president of Ghana.” Consequently, she explains, she was gripped not only by the fierceness and endurance of the romantic relationship at the heart of the story, but also by the intricacy and subtleties of its sociopolitical setting. Reading her way through Williams’s book – it’s brilliant, she says, but so dense with complex detail that she could only read 18 pages a day – she realised that she wanted to explore how Khama came to a point where he could contemplate utterly changing the political landscape of his country. “Even though I didn’t know the story,” she remarks, “I was very aware of the young, privileged men of Africa who moved through the UK in the 1940s, who were sent to be educated. I knew it because the women weren’t.” What she didn’t want, she explains, was to privilege one aspect of the drama over the other. And neither did she think it was necessary: “You could create a very political backdrop against the love story. Because, really, what is interesting about being a black man married to a white woman today? Yes, in certain quarters, it’s still difficult and there is still a taboo. But it’s not that interesting – why pick them, as opposed to any other interracial couple? What’s really interesting is what happened once this couple chose to fall in love, the period in which they fell in love, which was right as South Africa was about to enshrine apartheid into its laws, and the fallout that occurs.” She notes – while also acknowledging the earlier film’s vital importance at the time – that A United Kingdom is not a rerun of Guess Who’s Coming to Dinner, the 1967 film in which a black man played by Sidney Poitier courts a white woman, to the consternation of her parents. Rather, she says, she had to find those things in the story that would resonate with contemporary issues. Among those is the issue of transition and identity. One facet of the story she focused on explores the idea that someone might be sent away at a formative age to experience life and education in another country and yet still be expected to return essentially unaltered; it also shows those at home, inching their way towards establishing nationhood in the face of societal change. I tell her that I was struck by the numerous interwoven stories of restriction and emancipation, and the different weight that history accorded them. Near the start of Asante and screenwriter Guy Hibbert’s film, Khama and his wife, played by Oyelowo and Rosamund Pike, return to Bechuanaland and are met with hostility, despite his previous popularity; he determines to address the kgotla – a public meeting – and put his case. Scores of Bamangwato men, many of them dressed in suits, walk from their villages to attend, but there is barely a woman to be seen. Asante nods: she dotted a few around the edges, she remembers, as if to suggest that they couldn’t help themselves from coming to listen, but there was a firm message that politics was not for women. And yet she knew that she had to represent the view of Bamangwato women. “When I first came to the script, the point of view of the black female wasn’t really there, and it was very important,” she says. “I thought about my mother, I thought about my aunts; my mother was born and raised in a very rural village, but her brother is a chief. And the idea that he should go abroad and return, even with someone of the same colour but who was an outsider, and say, this is going to be your queen, I just imagined what their response would be. And there you have it, in the film.” Asante has had a lifetime of considering the nuances that attach themselves to the questions of identity and power informing her work. Now 47, she reckons that she is in a position to empower two sides of her identity – her Ghanaian heritage and her British upbringing – to be in dialogue with one another. “I allow that conversation to happen, and it’s a pleasure,” she explains. “And I don’t know what side I’ll come out on each day, or what decision I’ll come out with on each day, but it is a dynamic rather than a conflict.” Is she able to put into words what characterises these different parts of her? She mentions her pride in the traditions of her parents’ Ghanaian background, and of how important it is to her to be able to speak their language. “And yet, the very British side of me, who is the child of immigrants, is the side of me that welcomes outsiders – the modern British side, that is – and enjoys crossing boundaries and sharing boundaries and being open to what an outsider might bring. But I’m still deeply protective of my traditions at the same time.” (Amusingly, as we both ponder the miniature glass cloche covering the miniature biscuit that has accompanied tea, she puts her mild aversion to elaborate service down to her British “side”.) She grew up in Streatham, which she describes, in the early 1980s and beyond, as “a pretty racist environment” – complete with graffiti on the walls and lit matches pushed through the letterbox. “That was just a way of life,” she says now, inadvertently making reference to the title of her first feature film, “but I was aware of the stress it put my parents through.” Her accountant father’s response was to tell his family that there was one thing they had to remember at all times: “Know that you are loved.” Fascinatingly, these exact words recur as a line in Belle (2013), the story of Dido Elizabeth Belle, the child of a British admiral and an African slave, who was brought to England by her father and left in the care of her great-uncle, Lord Mansfield; they are the words spoken to her by her father, whom she only knows for a few hours, as he bids her farewell. Even more poignantly, Asante’s father died during the filming of Belle, and she talks movingly about his impact on her work. She will always, she thinks, create benevolent fathers who are also flawed; hers, whom she describes as her hero, “made mistakes, but when he got it right, he got it really right”. Belle grew up in Kenwood House in Hampstead, surrounded by great material privilege and familial love, but simultaneously excluded from vast swaths of society by the colour of her skin. As in A United Kingdom, there is a love story; but there is also a highly involved narrative that chronicles the changing legal position of slave cargo – at heart, the degree to which slaves being transported at sea were regarded as human beings rather than mere possessions, to be jettisoned at the drop of a hat. Both elements of the film unite to portray a mixed-race woman growing in self-recognition and self-possession, and balancing the different claims made on her loyalties. Both movies also imply that a key moment in the journey towards selfhood is the acceptance that individuals contain multitudes. As a child, Asante began to act, and joined the cast of Grange Hill; she was part of the “Just Say No” campaign, and was one of nine cast members to visit Ronald Reagan’s White House. But she would also develop lines to use in her off-screen life; for instance, she always used to reply “Ghana” when asked where she was from, because “Streatham” seemed to cause confusion of the “No, where are you really from?” variety. “So that became too complex,” she recalls, “and also it was a big fat rejection, because I actually felt as British as anybody else but I would constantly be reminded that I wasn’t. And so it was easier to just say African.” But things changed somewhat when her debut, A Way of Life, was released. Set in Wales, the film tells the story of a young, single mother fighting extreme disadvantage, and also of her Turkish, Muslim neighbour. It started to get a little attention, and “quite often I would read about myself, and it would be, ‘young British film-maker’. And when you see words written about you, they’re very powerful.” Did she feel that, in a sense, she was being claimed? Yes, she replies, “but there was a sense of, well, that’s what I’ve been saying all along, but haven’t been allowed to say. But that’s exactly what I am. I’m a young British director.” We talk more broadly about the issues of migration and the resistance to it that are bedevilling the world at the moment. Asante locates in much of the fear that surrounds the conversation an interesting insight into entitlement. “I often think about what we might look back at in 100 or 200 years’ time from now and see as really…” – she grasps for the word – “primitive. Because we fear, we really believe, there isn’t enough to share, and there really isn’t enough to go around, because that’s a narrative that we’re given. But that’s because we’ve decided that certain boundaries should exist and must exist, and you should stay over there, because the world over there is created for you, and the world over here is created for us. Well, that’s never worked.” At the time, she points out, change is always complicated, and when it happens too quickly, can be problematic. “You can’t have a country of fearful people,” she says, and in A United Kingdom, she is understanding of the competing demands on the Attlee and Churchill governments, both of which adopted problematic stances towards Bechuanaland as they sought to rebuild postwar British society. And yet, as she also says and the film makes clear, there was a good outcome: Seretse Khama took his country towards independence and democratic representation, and there it remains. She has already been criticised, she says, for making too much of a crowd-pleaser, to which she retorts that she can’t change history. But does she think that underlying that attitude is an unfamiliarity, perhaps even tantamount to disbelief, with the business of telling an African success story? She nods vigorously. “There was an argument over whether we should show some of the more beautiful images that we have in the film of Africa. This is why you need a person of colour at the table. Because I said, why not? That’s the Africa I know. Hundreds of thousands of people travel to Botswana every single year to go and see the animal life there. Why would we pretend that that doesn’t exist? Why wouldn’t we show the beautiful sunsets? I remember waking up in my mother’s African village to beautiful sunrises and beautiful sunsets. “We’re so used to seeing flies in African children’s faces, we’re so used to seeing what I call a degraded Africa, that does not have a person of colour at the centre of their own story – they’re usually a supporting character who’s an observer of their own story – that sometimes I think that when you see it told a different way, which means that you take a character like Rosamund Pike played in Ruth and flip the switch and make her the other, then it makes some people feel uncomfortable. Your expectations are disrupted. And I believe that’s what I’m here for. I hold that flag.” Asante is full of praise for Pike, who came to film after Gone Girl, and immediately embraced the no-makeup, frizzy hair and sensible shoes look that her character adopted when she moved to Botswana (there are rather more swinging skirts with nipped-in waists at the jazz clubs that feature in the film’s London scenes). “To me, she embodied the courage that I imagined Ruth had,” she says. Particularly impressive was Pike’s insistence that she would simply drop to the ground during a scene in which Williams, suffering from diphtheria, collapses on a dusty road. Asante, worried about the numerous rocks in the path, had had sleepless nights wondering how they could conceal a mattress, but had to content herself with setting the crew to remove as many stones as they could. When one of Khama and Williams’s sons visited the set, he delivered the ultimate imprimatur: “It’s not every day you see your mother and father come back to life.” Next, Asante is going to tackle the Nazis. Where Hands Touch, which she has written herself, will start filming in October, with The Hunger Games’s Amandla Stenberg and Captain Fantastic’s George MacKay starring as a teenage couple facing the not inconsiderable obstacle of his membership of the Hitler Youth and the fact that she is a mixed-race girl living in the Third Reich. Once again, issues of identity play an integral part, as does Asante’s abiding interest in capturing social and political structures at the moment where they begin to fall apart. We conclude by talking about broader issues of representation within the film industry, and specifically in the context of her recent membership of the Academy. How effective does she feel that development will be in promoting change and inclusion in the entertainment business? It is, she says, a “substantial and relevant” move, and she commends the Academy for doing it. But she remains realistic: “When you’re in it, it seems slow and it feels slow. When we look back in 100 years, who knows how it will look with hindsight. However, it does feel like we’re turning a corner. It’s not a short corner, it’s a very big bend, and we’re some way around it and we’ve still got a long way to go. Let’s be really honest about this: the Oscars reflect the industry, so the Oscars can change but they can only do so much without the industry changing as well.” In other words the movies need to get made in the first place, so that audiences are not presented with eight identical films when they go to the multiplex. Cinemagoers, too, can play their part, choosing to see a more diverse range of films as they are released, and not necessarily waiting until they come out on DVD. “It’s really interesting, “she continues, “that if you walk into an industry party and it’s predominantly male, predominantly of a certain age, predominantly white, it starts to feel old-fashioned. It doesn’t feel progressive. When you walk into a place and you see women, and you see people of colour, and varying abilities and disabilities, it feels like it’s somehow a reflection of the world – you’re in the world, and that we’re in a relevant industry.” She laughs, remembering her recent trip to a vibrant Toronto. “That didn’t mean to say that the lovely old white men were gone. They were still there!” The bottom line, she thinks, is that the industry needs to see a broadening of the wares as a business opportunity, not merely as a matter of morality: “If you do not have a flourish of new lifeblood,” she says, “you don’t get a beautiful ocean, you get a dull, dank puddle.” A United Kingdom opens the London film festival on Wednesday and will be in cinemas from 25 November Race on screen: critic Jonathan Romney’s highlights from this year’s London film festival Chi-Raq Dir: Spike Lee The Greek comedy of Lysistrata’s sex strike, adapted as the story of a Chicago woman who campaigns to stop gang war Spike Lee’s most acclaimed film for ages – a jovial yet impassioned musical strike against violence within black communities. Angela Bassett, Wesley Snipes and Samuel L Jackson join newcomer Teyonah Parris in an uproarious slice of hip-hop Brecht. Daughters of the Dust Dir: Julie Dash An evocation of a community of island-dwelling African American women in 1902 Now restored, Julie Dash’s 1991 debut feature opened up a new direction in independent US cinema that has never been followed up. Fusing black history, costume drama and a vision of feminist utopia, this dream-like film was one of the inspirations for Beyoncé’s Lemonade visuals. The Birth of a Nation Dir: Nate Parker The story of Nat Turner, a preacher who led a slave revolt in Virginia in the 1830s A Sundance-winning debut from actor turned writer-director Nate Parker. It polemically appropriates the title of DW Griffith’s 1915 film – a classic forever identified with American racism, against which Parker boldly takes up the cudgels. Divines Dir: Houda Benyamina A young woman from the Paris banlieue hustles to survive, while getting emotionally entangled with a male breakdancer The debut from French director Houda Benyamina, inspired by her experiences of the 2005 Paris riots, was one of this year’s Cannes breakout titles. Anarchic, ferociously energetic and joyously flouting the sexual stereotypes of hood drama, it introduces the explosively talented Oulaya Amamra as heroine Dounia. Hissein Habré, A Chadian Tragedy Dir: Mahamat-Saleh Haroun The former president of Chad prepares to stand trial for the crimes of his regime Mahamat-Saleh Haroun is one of the foremost contemporary African directors, his dramas including Abouna and A Screaming Man. Here he’s in a less familiar role as documentarist, scrutinising the past and present traumas of his own country. The 60th BFI London film festival takes place across the capital, 5-16 October\n",
      " \n",
      "Topic 6\n",
      "'This is insane. This is three Brexits': Trump supporters savour special night Just before 3am on Wednesday at the Hilton hotel in Midtown Manhattan, Donald Trump made his entrance to his victory party amid chants of “U-S-A! U-S-A!”. If they could have heard it in the nearby convention centre where they awaited in vain for Hillary Clinton, it might have sounded like a threat. Just as at his freewheeling rallies, his entrance to the crowded ballroom was heralded by the theme music of Air Force One, a Hollywood action film starring Harrison Ford as the American president. All eyes turned up to the balcony. There stood a tall figure in dark suit with white shirt, red tie and familiar shock of orange hair. But this was no movie. This was the president-elect. Trump – who at 70 will be the oldest person ever to assume the office – clapped and raised a triumphant fist above a blue “Make America Great Again” banner. He was followed by a royal train of grinning family members, political allies and campaign aides, some scarcely able to believe what just happened. Behind them the curtains were illuminated red, white and blue. An improbable, rollicking, at times farcical campaign that had begun with a ride down an escalator at Trump Tower in June last year – in the days when he was dismissed as a clown posing no possible threat to the republic – culminated in an exultant strut down a staircase at a nearby hotel. Trump gave the thumbs up and applauded some more as he walked on to a stage where two red “Make America Great Again” baseball caps were mounted in glass cases like religious relics. He took the podium against a backdrop of 24 US flags plus state flags, with son Barron on his left and running mate Mike Pence on his right, as the crowd chanted “U-S-A! U-S-A!”. After 17 months of bile and braggadocio in which he threatened to jail his opponent, suddenly Trump was Mr Magnanimous: “I’ve just received a call from Secretary Clinton. She congratulated us – it’s about us – on our victory and I congratulated her and her family on a very, very hard-fought campaign.” He added: “We owe her a major debt of gratitude for her service to our country. I mean that very sincerely. Now it’s time for America to bind the wounds of division.” It was not quite plagiarism on the scale of future first lady Melania Trump at the Republican national convention, where she copied large parts of a Michelle Obama speech, but it did bear an uncanny resemblance to Abraham Lincoln’s second inaugural address: “Let us strive on to finish the work we are in, to bind up the nation’s wounds.” Yet less than an hour earlier, when Clinton’s face flashed up on giant TV screens showing conservative Fox News, the guests at Trump’s victory party had erupted in loud boos, chants of “Lock her up! Lock her up!” and a hearty rendition of “Na na na na, na na na na, hey hey, goodbye”. For a night, this bland high-ceilinged room in a bland corporate hotel was the centre of the political universe. A business tycoon, reality TV celebrity and architect of one of the most divisive and incendiary campaigns in memory – some compared him to Hitler or Mussolini – had become the most powerful person on the planet, his finger on the nuclear trigger. “First,” he said, “I want to thank my parents who I know are looking down on me right now.” His mother, Mary MacLeod, was from Stornoway in the Outer Hebrides, once described by Trump as “serious Scotland”. His father, Fred Trump, the son of a German immigrant, became one of the New York’s biggest developers and landlords. After a formative spell at military academy, Trump went the Wharton School at the University of Pennsylvania and joined the family business, taking control of it in 1971. He has claimed his father gave him a “small loan of a million dollars” to help. The firm expanded into Manhattan, and the Trump name spread internationally, but he suffered his share of business failures, notably when four casinos went bust in Atlantic City. In 2003 his celebrity soared with The Apprentice, in which contestants battled for a shot at a management job within his organisation and he could say with relish, “You’re fired!” His eruption on the political stage was not entirely unexpected. Once a registered Democrat and donor to the party, he entered the 2000 race as a Reform party candidate but did not last. He also led the “birther movement” after repeatedly questioning the birthplace of Barack Obama. He finally conceded this year that the US president was born in Hawaii but offered no apology, fuelling the allegation that he had run a racially charged, white nativist campaign. He also faced a string of sexual assault allegations on his way to the White House. Trump may have been propelled to a shocking, paradigm-shattering victory by blue-collar workers, but the guests at his election-night event were decidedly moneyed. The men were in suits and ties, the women in dresses. They began filtering in after 6pm in somewhat subdued mood; just like Brexit champion Nigel Farage on the eve of that result, campaign manager Kellyanne Conway appeared to lower expectations by complaining of a lack of support from Republican stalwarts. Yet what would follow would be a night of rising hope, of belief spreading around the room like a wildfire, of daring to believe that their man might just pull off the biggest upset in modern political history. TV celebrity Omarosa Manigault, Trump’s director of African American outreach, held court with reporters, insisting that the candidate was supremely confident but that she felt “butterflies”. She mused on the circularity of having worked on The Apprentice at Trump Tower years ago and now being back there watching her mentor become “leader of the free world”. National spokeswoman Katrina Pierson also showed up. “Are you nervous?” someone asked. Pierson replied: “Nothing to be nervous about.” The drinks began to flow. Someone said: “We’re making America great again.” A friend replied: “Trying, trying.” Each time Fox News flashed up a Trump victory in a reliably red state, the guests cheered and waved signs with slogans. Each time it showed Clinton had won a Democratic stronghold, they booed. Then the Republican candidate won Ohio and North Carolina. Suddenly, what had seemed like a pipe dream felt just a little more tangible. Jeff Sado, 58, a property broker and film producer, said: “I’m very excited. It looks good so far. You know what they say: when you win Ohio, you win the presidency. I’ve always liked Trump, and if you look at our country as a corporation, who better to run it than a businessman?” The crowd became thicker and noisier with more “Make America Great Again” caps in evidence. Confidence surged into every corner of the room. And then there was Florida. The crowd erupted in its biggest roar of the night so far and people high-fived. It was game on. Wearing one of those caps, Benjamin Marchi, 38, who owns a home healthcare company, said: “Driving up, we were depressed. We felt this was not going to go our way tonight. We were saying, even though he might lose, he was setting up the party to reach out for voters we haven’t reached since Ronald Reagan. But now it looks like he might win the whole thing.” Marchi made comparison with Britain’s vote to leave the European Union. “This Brexit wave, it reaches across oceans. It really does. Never underestimate ordinary people because eventually they show up and vote.” The excitement also infected Diana Loffredo, 32, an events planner. “It’s crazy,” she said. “This is history in the making right here. I didn’t think so before but now I really do. Amazing. I’m amazed, ecstatic. She was the favourite and now he’s turned the tables.” Her husband, Scott Loffredo, 32, was watching the big screen when Fox News declared Wisconsin for Trump, a stunning surprise. “That’s it!” he exclaimed. “It’s over! This is history!” Asked to characterise his emotions, Loffredo replied: “It’s hard to describe a feeling. I cannot overcome the utter disbelief. It’s sheer shock. I cannot break that shell. This is insane. This is three Brexits.” The sports event atmosphere took on a darker tone. The crowd chanted: “Lock her up! Lock her up!” Every so often the TV feed cut to Clinton’s election party where faces were disconsolate. Trump’s supporters booed and jeered without compassion. Thomas Stewart, a member of Trump’s national security committee, said of the Democrat’s followers: “I think they were a little arrogant, a little unfriendly. There were some Clinton people on the plane today and they were taunting me because I had Trump material in my briefcase. I thought, ‘Guys, you don’t have to be rude.’” As the momentum continued to build, Brian Lynch, 55, general manager of a country club, said: “It’s orgasmic. It’s like Brexit and, by the way, God bless London. People in London got it right. They want their country back; America wants its country back. It’s the same thing.” By now the room was nearly full but there was long wait for further results. Some broke into a chorus or two of “God bless America”. Some, after several hours on their feet, opted to sit on the floor. The atmosphere was becoming increasingly hot and claustrophobic. The TV showed Wall Street stock prices tumbling. Thomas Hilbert, 22, a portfolio analyst from Indianapolis, was watching his fortune diminish in real time. “I’m in biotech and it’s going to be down big tomorrow,” he said. “Everything’s going to be down. It’s definitely a price worth paying because in the long run it’s going up.” People studied their phones for the latest vote counts in Pennsylvania. But tiredness was creeping in. One woman could be heard saying: “At 3am I’m leaving.” But then, finally, came the announcement of a once unthinkable, perhaps unpalatable statement: Donald Trump elected US president. The crowd erupted in unbridled euphoria with high fives all round. Their “champion”, as Pence put it, made his entrance to Air Force One and departed to the sound of another golden oldie from his rallies, the Rolling Stones’ You Can’t Always Get What You Want. The Stones have objected to his use of the track. But now Trump is about to be president of the United States, who is going to stop him?\n",
      " \n"
     ]
    }
   ],
   "source": [
    "top_docs = np.argmax(u, axis=0)\n",
    "print(top_docs)\n",
    "for i, j in enumerate(top_docs):\n",
    "    print(\"Topic {}\".format(i))\n",
    "    print(documents[j])\n",
    "    print(\" \")"
   ]
  },
  {
   "cell_type": "markdown",
   "metadata": {
    "slideshow": {
     "slide_type": "slide"
    }
   },
   "source": [
    "### Найдём по данному запросу ближайший документ"
   ]
  },
  {
   "cell_type": "code",
   "execution_count": 15,
   "metadata": {
    "slideshow": {
     "slide_type": "slide"
    }
   },
   "outputs": [
    {
     "data": {
      "text/plain": [
       "((1000, 1), (7, 1000))"
      ]
     },
     "execution_count": 15,
     "metadata": {},
     "output_type": "execute_result"
    }
   ],
   "source": [
    "new_request_original = '''There were four minutes remaining and none of the Newcastle United fans had left. \n",
    "Even with their team a man down and four goals down, they stayed. \n",
    "Even with another reminder of how their well-intentioned manager, Steve Bruce, \n",
    "struggles to build on the good work of Rafa Benítez, \n",
    "they kept standing there, kept singing, defying the rain and the pain.'''\n",
    "\n",
    "# removing everything except alphabets`\n",
    "new_request = new_request_original.replace(\"[^a-zA-Z#]\", \" \")\n",
    "\n",
    "# removing short words\n",
    "new_request = ' '.join([w for w in new_request.split() if len(w)>3])\n",
    "\n",
    "# make all text lowercase\n",
    "new_request = new_request.lower()\n",
    "\n",
    "\n",
    "# tokenization\n",
    "tokenized_doc = new_request.split()\n",
    "\n",
    "# remove stop-words\n",
    "tokenized_doc = [item for item in tokenized_doc if item not in stop_words]\n",
    "\n",
    "# de-tokenization\n",
    "detokenized_request = ' '.join(tokenized_doc)\n",
    "\n",
    "y = vectorizer.transform([detokenized_request]).toarray().T\n",
    "y.shape, v.shape"
   ]
  },
  {
   "cell_type": "code",
   "execution_count": 17,
   "metadata": {
    "slideshow": {
     "slide_type": "slide"
    }
   },
   "outputs": [
    {
     "name": "stdout",
     "output_type": "stream",
     "text": [
      "(4551, 1)\n",
      "Premier League: 10 things to look out for this weekend 1) Start of a tough run for the Hammers On the last day of the 2006-07 season Manchester United, who had won the title five days earlier, fielded a weakened side – Cristiano Ronaldo, Ryan Giggs, Paul Scholes, Rio Ferdinand and Nemanja Vidic were all left out of the starting XI – at Old Trafford against a West Ham team who needed at least a point to avoid relegation. Carlos Tevez, who was to join United a few weeks later, scored the only goal on the stroke of half-time. “They couldn’t have come to Old Trafford on a better day,” said Sir Alex Ferguson after the game. “We had already won the league and the edge was off our game.” There was also a 1-0 win in December 2001, against a wretchedly out-of-form United side that were completing a memorably horrific run of five defeats in seven league games. Those two games are the Hammers’ only highlights in a miserable run of top-flight visits to Old Trafford that now extends over 30 years and in which they have otherwise drawn once and lost 20 times. And now they must go there twice in four days, with Sunday’s match being followed by an EFL Cup quarter-final on Wednesday (in the same time period they have visited Old Trafford four times in cup competitions, losing two and winning one). With the Manchester double-header to be followed by games against Arsenal and Liverpool, stories this week suggesting “West Ham chiefs have started to consider their options should they feel forced to make a change” are not just unwelcome but almost cruel. After the visit to Anfield the Hammers have a less daunting run of four fixtures before the turn of the year and it would seem sensible to delay any judgment until they have been completed, which will helpfully coincide with the start of a new transfer window and, less helpfully, another game against Manchester United. SB • Are Manchester United really the unluckiest team in the Premier League? 2) Karanka’s bewildering persistence with Negredo Álvaro Negredo has failed to score for Middlesbrough since forcing home a close range debut goal with his shoulder against Stoke City on the opening day of the season and there is a growing clamour on Teesside for Aitor Karanka to drop the on-loan Valencia striker from a team that is joint bottom of the Premier League goalscoring charts alongside Hull with just 10. Karanka, whose side face Leicester City on Saturday, recently came out in defence of his compatriot, who has failed to find the net in 11 consecutive matches and looked woeful against Chelsea, where his obvious lack of speed and mobility came in for criticism. “He is working and fighting but he is not playing at Chelsea or Manchester City,” said Karanka, before expanding on a theme that is unlikely to boost dressing-room morale at the Riverside. “He is not with the team-mates he had in the past or the team-mates Diego Costa had at Chelsea.” Negredo has played 85 minutes or more in 10 of the 12 matches he has featured in for Boro this season and on the only occasion he was substituted – replaced by Jordan Rhodes against Tottenham Hotspur – Karanka’s switch was greeted with loud applause from the Riverside faithful. Middlesbrough’s manager may still have faith in his striker, but the fans do not. Rhodes and his fellow striker David Nugent have yet to complete a game in eight Premier League appearances between them this season and surely can’t do any worse than the man who has restricted them to little more than fleeting cameos off the bench. BG • Leicester City top dogs after Shinji Okazaki leads win over Club Brugge • Ranieri delighted but desperate to focus on Premier League problems • Danny Drinkwater to serve three-match ban for violent conduct 3) Cherries struggle against top five Bournemouth have impressed all impartial observers since their promotion in 2015, and indeed for a while before that, but their results against the current Premier League top five have disappointed: in 12 games so far they have won one – against Chelsea shortly before José Mourinho’s sacking last December – lost 10 and sit on the wrong end of an aggregate score of 31-5 (every other team that was in the division last season has been beaten at least once except Watford and Leicester, against whom they have neither won nor lost). Arsenal won both of their meetings last season by the same score, 2-0, and will face a Bournemouth side forced to play without the influential and injury-free midfielder Jack Wilshere, on loan from Arsenal. Despite his absence it might be a tough day for the woodwork, with these teams being the two most post-rattling in the top flight: the Cherries lead the way in this regard, having struck the frame of the goal 13 times so far, and Arsenal follow behind with eight. SB • Wenger not panicking on Arsenal second place in Champions League • Barney Ronay: Özil’s vision prevents Arsenal from drifting against PSG • Match report: Arsenal 2-2 Paris Saint-Germain 4) A touch of dead ball inspiration from Sigurdsson? Between them, Crystal Palace and Swansea City have managed just four wins and a staggering 15 defeats in 24 Premier League matches so far this season, a state of affairs that makes this contest the weekend’s equivalent of two drunks swinging at each other in an alley. Should either manager lose a game likely to be low on finesse but no less compelling a spectacle for its absence, they will find themselves the subject of no end of criticism from fans for whom the spectre of relegation looms increasingly large. Alan Pardew seems genuinely delusional, having convinced himself his side do not concede from set-pieces even though the stats suggest otherwise. Nine of the 21 goals shipped by Palace this season have come from dead ball situations and in Gylfi Sigurdsson, Swansea have one of the most accurate set-piece specialists in the business. Whether it’s from one or more of the free-kicks and corners Pardew’s team have proved so hopelessly inept at defending, the in-form Icelandic midfielder could well prove instrumental in helping Bob Bradley secure his maiden victory as Swansea City manager in a game that looks must-win for both men in charge. BG • The Knowledge: players confused by penalty rebounds 5) Ighalo’s woes to continue There has only been one home win in the last eight matches between Watford and Stoke, the away side winning five of those games including both of last season’s encounters. But Stoke have only won one away game since their visit to Vicarage Road in March – at Hull last month – and will probably have to overcome a Watford side buoyed not only by last week’s victory over Leicester but by the new formation that brought it. When preparing for his last visit to Hertfordshire Mark Hughes spoke about the Hornets’ key threat at the time, their front two of Odion Ighalo and Troy Deeney. “The two guys up top have had a big influence on what they’ve done,” he said. “They are a good pairing who work off each other really well and certainly they are something we’ll talk about before the game.” This time he needn’t bother: Ighalo’s influence in recent months has been minimal, leading to him being dropped in favour of Isaac Success for last month’s victory at Middlesbrough. Injuries to both Success and Watford’s other first-team striker, Stefano Okaka, allowed Ighalo to return to the side for their following three games but last week he was on the bench again as Walter Mazzarri played a 5-4-1 formation in which Troy Deeney was given considerably more effective support by a combination of the two wide midfielders, Roberto Pereyra and Nordin Amrabat, and by Etienne Capoue’s running from central midfield. When Deeney was replaced late in the game, it was by the recently-recovered Okaka; with Success now ready to return to the squad, Ighalo’s hopes of a return to the starting XI appear, like his recent form, underwhelming. SB • Football Weekly Extra: AC Jimbo and co preview the weekend 6) A third consecutive win for Sunderland? Free-scoring Sunderland have never beaten Liverpool at Anfield in the Premier League era but will fancy their slim chances of bucking that trend as they arrive on the back of consecutive wins for the first time since last May. Sunderland last won three consecutive league games three seasons and three managers ago, on the run-in of the 2013-14 campaign when wins over Chelsea, Cardiff City, Manchester United and then West Brom helped them pull off the mother of all escape acts. The bookies give them little or no chance of beating Jürgen Klopp’s Liverpool, who drew a rare blank against Southampton last weekend and have had a full week to find their range. You can get odds of 16-1 against David Moyes’s side making it three wins on the spin, but with confidence high, Moyes having bought himself some much-needed wriggle room and Victor Anichebe joining Jermain Defoe among the goals, Sunderland could conceivably leave Anfield with a point or even more. Of course the far more likely scenario is that they will get thumped but in facing top class opposition will at least get to see if their two recent victories were more down to good luck (Bournemouth) and the poor quality of their opposition (Hull City) than any major advances they have made under the stewardship of Moyes. BG • Steven Gerrard retires from football after ‘incredible career’ • Paul Wilson: Charlton and Guardiola offer Gerrard lessons from history • Sean Ingle: Do stats support ‘benefits’ of Liverpool’s European absence? 7) Burnley have a chance of an upset Manchester City’s last two Champions League games were followed by disappointing 1-1 draws at home to Southampton and Middlesbrough, and now they must follow a similar result at Borussia Mönchengladbach with a visit to a side that has already beaten Liverpool and Everton (as well as Watford and Crystal Palace) and come within a whisker of holding Arsenal, all at home. Burnley are the division’s Jekyll and Hyde side, boasting the sixth-best home record with an average 1.86 points per game (having played once more at home than any other team) and the second-worst away record, with the goalless draw at Old Trafford last month securing the only point they have won in five games on their travels. Motivated by the rollicking Sean Dyche gave them following a 4-0 capitulation at West Bromwich Albion on Monday – he told the press they “got drunk on the ball” and “just looked weak willed” – and against opponents who are themselves out of form and against whom they have a decent recent record (amounting to two draws and a win each in four Premier League encounters, though Burnley’s victory was a tight 1-0 win in March 2015, and City’s a 6-1 thumping in April 2010), there is reason for genuine optimism. Dyche said his side are relying on little more than “the marvel of football” and the fact “random results turn up”, but he is perhaps understating the chances of an upset. SB • Joey Barton back training with his former club Burnley • City through after Silva earns draw at Mönchengladbach • Yaya Touré left off shortlist for 2016 African player of the year award • Luis Enrique gives Messi to Manchester City rumours short shrift 8) Some sanity after the all poppy madness Football is never slow to embrace a cause and the Premier League has promised to throw its weight behind Stonewall’s rainbow laces initiative on a weekend when its own branding will feature a rainbow motif and most, if not all, Premier League players will wear rainbow laces on their boots as part of a wider push to encourage diversity in grounds around the country. Along with several extremely courageous former footballers, the ’s chief football correspondent, Daniel Taylor, continues to shine a light on the hitherto unreported scandal of historical cases of child abuse of footballers in a depressing story that looks likely to run and run. Considering some of those victims who have come forward to tell their horrific stories previously felt unable to speak out for fear of being labelled “gay”, any campaign to support LGBT people and stamp out homophobic abuse in football can only be applauded. BG 9) Some resilience from Spurs Ten minutes. That’s how long Chelsea need to keep Tottenham Hotspur at bay this weekend to rack up 600 Premier League minutes without conceding a goal. Should they beat Spurs and hold them scoreless, Antonio Conte’s men will have recorded seven consecutive league wins without conceding a goal, two shy of the record set by Stockport County, then of League Two, between 13 January and 2 March 2007. It will be intriguing to see how Spurs bounce back from the midweek disappointment of their defeat at the hands of Monaco, in which there were several conspicuous absentees from Mauricio Pochettino’s starting lineup and few of those the manager did select covered themselves in glory. After their midweek meltdown, Tottenham could hope for no stiffer test than a run-out against the Premier League leaders with their apparently impregnable defence and an attack that is behind only Liverpool in terms of goals scored. With Pochettino having questioned the mental fortitude of his players during the week, the manner in which Spurs bounce back from Wednesday’s Champions League reverse ought to give a fair indication of whether their season will end with a half-decent title challenge or merely end up petering out and finishing up in an underwhelming and characteristically Spursy fashion. BG • Pochettino: Tottenham will stay at Wembley for Europa League • Summer signings and lack of savvy: why Spurs failed in Europe • Pochettino says changes needed after Spurs flop in Monaco • Barney Ronay: Conte stamps his dynamic personality on Chelsea 10) Koeman’s return to Southampton It is the season of reunions for Southampton, who after facing Liverpool’s selection of ex-Saints last week prepare for Ronald Koeman’s first return to the club he departed in the summer under something of a cloud, a few weeks after promising supporters that “I know nothing about the Everton job” and that not only does “everybody know I have a year on my contract” but he “could sign a [new] contract next week”. After his move was announced the former Southampton goalkeeper Artur Boruc tweeted something Koeman had said a couple of moths previously, criticising “the lack of loyalty in modern day football” and asserting not only that would not be tempted away from the St Mary’s Stadium for “short-term gains”, but he “would hate to ever become that kind of manager”. As he walks out before the game he may become the latest manager to be reminded that it is not so much the leaving of a club by which they will be judged, but the manner of it. SB • ‘What’s this geezer doing? He’s hopeless’ – the Ali Dia story, 20 years on • Everton Under-23s to sleep rough for homeless charity\n"
     ]
    }
   ],
   "source": [
    "score = u @ (sigma[:, np.newaxis] * v.dot(y))\n",
    "print(score.shape)\n",
    "idx_best = np.argmax(score)\n",
    "print(documents[idx_best])"
   ]
  },
  {
   "cell_type": "markdown",
   "metadata": {
    "slideshow": {
     "slide_type": "slide"
    }
   },
   "source": [
    "## Приложение 2: рекомендательные системы"
   ]
  },
  {
   "cell_type": "markdown",
   "metadata": {
    "slideshow": {
     "slide_type": "slide"
    }
   },
   "source": [
    "### Что дано?\n",
    "\n",
    "- Матрица пользователь-продукт\n",
    "- Элементы матрицы – рейтинги, если есть\n",
    "- Неполное заполнение"
   ]
  },
  {
   "cell_type": "markdown",
   "metadata": {
    "slideshow": {
     "slide_type": "slide"
    }
   },
   "source": [
    "## Как использовать SVD?\n",
    "\n",
    "- Оригинальная работа [*Performance of recommender algorithms on top-n recommendation tasks*](https://dl.acm.org/citation.cfm?id=1864721), Cremonesi, P., Koren, Y., and Turrin, R\n",
    "- Построим вложение пользователей и продуктов в некоторое подпространство $\\mathbb{R}^n$\n",
    "- Для известных предпочтений найдём наиболее близкие продукты в этом подпространстве\n",
    "- Как это вычислительно сделать?"
   ]
  },
  {
   "cell_type": "markdown",
   "metadata": {
    "slideshow": {
     "slide_type": "slide"
    }
   },
   "source": [
    "### Датасет Movielens с рейтингами фильмов"
   ]
  },
  {
   "cell_type": "code",
   "execution_count": 18,
   "metadata": {
    "slideshow": {
     "slide_type": "fragment"
    }
   },
   "outputs": [],
   "source": [
    "movies = pd.read_csv('movies.gz', index_col='movieid', header=0, encoding='unicode-escape')[['movienm', 'genreid']]\n",
    "ratings = pd.read_csv('ratings.gz', header=0)"
   ]
  },
  {
   "cell_type": "markdown",
   "metadata": {
    "slideshow": {
     "slide_type": "slide"
    }
   },
   "source": [
    "### Пример записей"
   ]
  },
  {
   "cell_type": "code",
   "execution_count": 19,
   "metadata": {
    "slideshow": {
     "slide_type": "fragment"
    }
   },
   "outputs": [
    {
     "data": {
      "text/html": [
       "<div>\n",
       "<style scoped>\n",
       "    .dataframe tbody tr th:only-of-type {\n",
       "        vertical-align: middle;\n",
       "    }\n",
       "\n",
       "    .dataframe tbody tr th {\n",
       "        vertical-align: top;\n",
       "    }\n",
       "\n",
       "    .dataframe thead th {\n",
       "        text-align: right;\n",
       "    }\n",
       "</style>\n",
       "<table border=\"1\" class=\"dataframe\">\n",
       "  <thead>\n",
       "    <tr style=\"text-align: right;\">\n",
       "      <th></th>\n",
       "      <th>movienm</th>\n",
       "      <th>genreid</th>\n",
       "    </tr>\n",
       "    <tr>\n",
       "      <th>movieid</th>\n",
       "      <th></th>\n",
       "      <th></th>\n",
       "    </tr>\n",
       "  </thead>\n",
       "  <tbody>\n",
       "    <tr>\n",
       "      <th>1</th>\n",
       "      <td>Toy Story (1995)</td>\n",
       "      <td>Animation, Children's, Comedy</td>\n",
       "    </tr>\n",
       "    <tr>\n",
       "      <th>2</th>\n",
       "      <td>Jumanji (1995)</td>\n",
       "      <td>Adventure, Children's, Fantasy</td>\n",
       "    </tr>\n",
       "    <tr>\n",
       "      <th>3</th>\n",
       "      <td>Grumpier Old Men (1995)</td>\n",
       "      <td>Comedy, Romance</td>\n",
       "    </tr>\n",
       "    <tr>\n",
       "      <th>4</th>\n",
       "      <td>Waiting to Exhale (1995)</td>\n",
       "      <td>Comedy, Drama</td>\n",
       "    </tr>\n",
       "    <tr>\n",
       "      <th>5</th>\n",
       "      <td>Father of the Bride Part II (1995)</td>\n",
       "      <td>Comedy</td>\n",
       "    </tr>\n",
       "  </tbody>\n",
       "</table>\n",
       "</div>"
      ],
      "text/plain": [
       "                                    movienm                         genreid\n",
       "movieid                                                                    \n",
       "1                          Toy Story (1995)   Animation, Children's, Comedy\n",
       "2                            Jumanji (1995)  Adventure, Children's, Fantasy\n",
       "3                   Grumpier Old Men (1995)                 Comedy, Romance\n",
       "4                  Waiting to Exhale (1995)                   Comedy, Drama\n",
       "5        Father of the Bride Part II (1995)                          Comedy"
      ]
     },
     "execution_count": 19,
     "metadata": {},
     "output_type": "execute_result"
    }
   ],
   "source": [
    "movies.head()"
   ]
  },
  {
   "cell_type": "code",
   "execution_count": 20,
   "metadata": {
    "slideshow": {
     "slide_type": "fragment"
    }
   },
   "outputs": [
    {
     "data": {
      "text/html": [
       "<div>\n",
       "<style scoped>\n",
       "    .dataframe tbody tr th:only-of-type {\n",
       "        vertical-align: middle;\n",
       "    }\n",
       "\n",
       "    .dataframe tbody tr th {\n",
       "        vertical-align: top;\n",
       "    }\n",
       "\n",
       "    .dataframe thead th {\n",
       "        text-align: right;\n",
       "    }\n",
       "</style>\n",
       "<table border=\"1\" class=\"dataframe\">\n",
       "  <thead>\n",
       "    <tr style=\"text-align: right;\">\n",
       "      <th></th>\n",
       "      <th>userid</th>\n",
       "      <th>movieid</th>\n",
       "      <th>rating</th>\n",
       "    </tr>\n",
       "  </thead>\n",
       "  <tbody>\n",
       "    <tr>\n",
       "      <th>0</th>\n",
       "      <td>1</td>\n",
       "      <td>1193</td>\n",
       "      <td>5</td>\n",
       "    </tr>\n",
       "    <tr>\n",
       "      <th>1</th>\n",
       "      <td>1</td>\n",
       "      <td>661</td>\n",
       "      <td>3</td>\n",
       "    </tr>\n",
       "    <tr>\n",
       "      <th>2</th>\n",
       "      <td>1</td>\n",
       "      <td>914</td>\n",
       "      <td>3</td>\n",
       "    </tr>\n",
       "    <tr>\n",
       "      <th>3</th>\n",
       "      <td>1</td>\n",
       "      <td>3408</td>\n",
       "      <td>4</td>\n",
       "    </tr>\n",
       "    <tr>\n",
       "      <th>4</th>\n",
       "      <td>1</td>\n",
       "      <td>2355</td>\n",
       "      <td>5</td>\n",
       "    </tr>\n",
       "  </tbody>\n",
       "</table>\n",
       "</div>"
      ],
      "text/plain": [
       "   userid  movieid  rating\n",
       "0       1     1193       5\n",
       "1       1      661       3\n",
       "2       1      914       3\n",
       "3       1     3408       4\n",
       "4       1     2355       5"
      ]
     },
     "execution_count": 20,
     "metadata": {},
     "output_type": "execute_result"
    }
   ],
   "source": [
    "ratings.head()"
   ]
  },
  {
   "cell_type": "code",
   "execution_count": 21,
   "metadata": {
    "slideshow": {
     "slide_type": "slide"
    }
   },
   "outputs": [
    {
     "data": {
      "text/plain": [
       "userid     6040\n",
       "movieid    3706\n",
       "dtype: int64"
      ]
     },
     "execution_count": 21,
     "metadata": {},
     "output_type": "execute_result"
    }
   ],
   "source": [
    "ratings[['userid', 'movieid']].apply(pd.Series.nunique)"
   ]
  },
  {
   "cell_type": "markdown",
   "metadata": {
    "slideshow": {
     "slide_type": "slide"
    }
   },
   "source": [
    "### Зададим список предпочтений"
   ]
  },
  {
   "cell_type": "code",
   "execution_count": 37,
   "metadata": {
    "slideshow": {
     "slide_type": "fragment"
    }
   },
   "outputs": [
    {
     "data": {
      "text/html": [
       "<div>\n",
       "<style scoped>\n",
       "    .dataframe tbody tr th:only-of-type {\n",
       "        vertical-align: middle;\n",
       "    }\n",
       "\n",
       "    .dataframe tbody tr th {\n",
       "        vertical-align: top;\n",
       "    }\n",
       "\n",
       "    .dataframe thead th {\n",
       "        text-align: right;\n",
       "    }\n",
       "</style>\n",
       "<table border=\"1\" class=\"dataframe\">\n",
       "  <thead>\n",
       "    <tr style=\"text-align: right;\">\n",
       "      <th></th>\n",
       "      <th>movienm</th>\n",
       "      <th>genreid</th>\n",
       "    </tr>\n",
       "    <tr>\n",
       "      <th>movieid</th>\n",
       "      <th></th>\n",
       "      <th></th>\n",
       "    </tr>\n",
       "  </thead>\n",
       "  <tbody>\n",
       "    <tr>\n",
       "      <th>12</th>\n",
       "      <td>Dracula: Dead and Loving It (1995)</td>\n",
       "      <td>Comedy, Horror</td>\n",
       "    </tr>\n",
       "    <tr>\n",
       "      <th>1329</th>\n",
       "      <td>Blood For Dracula (Andy Warhol's Dracula) (1974)</td>\n",
       "      <td>Horror</td>\n",
       "    </tr>\n",
       "    <tr>\n",
       "      <th>1339</th>\n",
       "      <td>Bram Stoker's Dracula (1992)</td>\n",
       "      <td>Horror, Romance</td>\n",
       "    </tr>\n",
       "    <tr>\n",
       "      <th>1721</th>\n",
       "      <td>Titanic (1997)</td>\n",
       "      <td>Drama, Romance</td>\n",
       "    </tr>\n",
       "    <tr>\n",
       "      <th>2157</th>\n",
       "      <td>Chambermaid on the Titanic, The (1998)</td>\n",
       "      <td>Romance</td>\n",
       "    </tr>\n",
       "    <tr>\n",
       "      <th>2644</th>\n",
       "      <td>Dracula (1931)</td>\n",
       "      <td>Horror</td>\n",
       "    </tr>\n",
       "    <tr>\n",
       "      <th>2645</th>\n",
       "      <td>Dracula (1958)</td>\n",
       "      <td>Horror</td>\n",
       "    </tr>\n",
       "    <tr>\n",
       "      <th>2646</th>\n",
       "      <td>House of Dracula (1945)</td>\n",
       "      <td>Horror</td>\n",
       "    </tr>\n",
       "    <tr>\n",
       "      <th>2653</th>\n",
       "      <td>Son of Dracula (1943)</td>\n",
       "      <td>Horror</td>\n",
       "    </tr>\n",
       "    <tr>\n",
       "      <th>3403</th>\n",
       "      <td>Raise the Titanic (1980)</td>\n",
       "      <td>Drama, Thriller</td>\n",
       "    </tr>\n",
       "    <tr>\n",
       "      <th>3404</th>\n",
       "      <td>Titanic (1953)</td>\n",
       "      <td>Action, Drama</td>\n",
       "    </tr>\n",
       "  </tbody>\n",
       "</table>\n",
       "</div>"
      ],
      "text/plain": [
       "                                                  movienm          genreid\n",
       "movieid                                                                   \n",
       "12                     Dracula: Dead and Loving It (1995)   Comedy, Horror\n",
       "1329     Blood For Dracula (Andy Warhol's Dracula) (1974)           Horror\n",
       "1339                         Bram Stoker's Dracula (1992)  Horror, Romance\n",
       "1721                                       Titanic (1997)   Drama, Romance\n",
       "2157               Chambermaid on the Titanic, The (1998)          Romance\n",
       "2644                                       Dracula (1931)           Horror\n",
       "2645                                       Dracula (1958)           Horror\n",
       "2646                              House of Dracula (1945)           Horror\n",
       "2653                                Son of Dracula (1943)           Horror\n",
       "3403                             Raise the Titanic (1980)  Drama, Thriller\n",
       "3404                                       Titanic (1953)    Action, Drama"
      ]
     },
     "execution_count": 37,
     "metadata": {},
     "output_type": "execute_result"
    }
   ],
   "source": [
    "best_movies = \"titanic|dracula\"\n",
    "target_movies = movies.loc[movies.movienm.str.contains(best_movies, flags=2)]\n",
    "target_movies"
   ]
  },
  {
   "cell_type": "markdown",
   "metadata": {
    "slideshow": {
     "slide_type": "slide"
    }
   },
   "source": [
    "### Выделим индексы выбранных фильмов"
   ]
  },
  {
   "cell_type": "code",
   "execution_count": 38,
   "metadata": {
    "slideshow": {
     "slide_type": "fragment"
    }
   },
   "outputs": [
    {
     "name": "stdout",
     "output_type": "stream",
     "text": [
      "Int64Index([12, 1329, 1339, 1721, 2157, 2644, 2645, 2646, 2653, 3403, 3404], dtype='int64', name='movieid')\n"
     ]
    }
   ],
   "source": [
    "favorite_movies_ids = target_movies.index\n",
    "print(favorite_movies_ids)"
   ]
  },
  {
   "cell_type": "markdown",
   "metadata": {
    "slideshow": {
     "slide_type": "slide"
    }
   },
   "source": [
    "### Создадим матрицу с рейтингами "
   ]
  },
  {
   "cell_type": "code",
   "execution_count": 39,
   "metadata": {
    "slideshow": {
     "slide_type": "fragment"
    }
   },
   "outputs": [
    {
     "name": "stdout",
     "output_type": "stream",
     "text": [
      "(6041, 3953)\n"
     ]
    }
   ],
   "source": [
    "data_matrix = spsp.csr_matrix((ratings.rating.values.astype('f8'), \n",
    "                               (ratings.userid.values, ratings.movieid.values)))\n",
    "print(data_matrix.shape)"
   ]
  },
  {
   "cell_type": "markdown",
   "metadata": {
    "slideshow": {
     "slide_type": "slide"
    }
   },
   "source": [
    "### Вычислим SVD"
   ]
  },
  {
   "cell_type": "code",
   "execution_count": 40,
   "metadata": {
    "slideshow": {
     "slide_type": "fragment"
    }
   },
   "outputs": [],
   "source": [
    "rank = 30\n",
    "_, S, Vt = spsplin.svds(data_matrix, k=rank, return_singular_vectors='vh')"
   ]
  },
  {
   "cell_type": "markdown",
   "metadata": {
    "slideshow": {
     "slide_type": "slide"
    }
   },
   "source": [
    "### Посмотрим на убывание сингулярных чисел"
   ]
  },
  {
   "cell_type": "code",
   "execution_count": 31,
   "metadata": {
    "slideshow": {
     "slide_type": "fragment"
    }
   },
   "outputs": [
    {
     "data": {
      "text/plain": [
       "[<matplotlib.lines.Line2D at 0x1a29b6b400>]"
      ]
     },
     "execution_count": 31,
     "metadata": {},
     "output_type": "execute_result"
    },
    {
     "data": {
      "image/png": "[encoded data removed]",
      "text/plain": [
       "<Figure size 432x288 with 1 Axes>"
      ]
     },
     "metadata": {
      "needs_background": "light"
     },
     "output_type": "display_data"
    }
   ],
   "source": [
    "plt.plot(S[::-1] / S[-1])"
   ]
  },
  {
   "cell_type": "markdown",
   "metadata": {
    "slideshow": {
     "slide_type": "slide"
    }
   },
   "source": [
    "### Получим корреляции"
   ]
  },
  {
   "cell_type": "code",
   "execution_count": 41,
   "metadata": {
    "slideshow": {
     "slide_type": "fragment"
    }
   },
   "outputs": [
    {
     "name": "stdout",
     "output_type": "stream",
     "text": [
      "(30, 11)\n",
      "(3953, 11)\n",
      "(3953,)\n"
     ]
    }
   ],
   "source": [
    "print(Vt[:, favorite_movies_ids].shape)\n",
    "correlation = Vt.T @ Vt[:, favorite_movies_ids]\n",
    "print(correlation.shape)\n",
    "score = correlation.sum(axis=1)\n",
    "print(score.shape)\n",
    "# movies.loc[np.argsort(-Vt.T @ Vt[:, favorite_movies_ids].sum(axis=1))[:15]] # assuming binary preference vector"
   ]
  },
  {
   "cell_type": "markdown",
   "metadata": {
    "slideshow": {
     "slide_type": "slide"
    }
   },
   "source": [
    "### Вычислим итоговые рекомендации"
   ]
  },
  {
   "cell_type": "code",
   "execution_count": 42,
   "metadata": {
    "slideshow": {
     "slide_type": "fragment"
    }
   },
   "outputs": [
    {
     "name": "stdout",
     "output_type": "stream",
     "text": [
      "[0.06773427 0.062023   0.05474846 0.05442924 0.05396276 0.05239618\n",
      " 0.05205923 0.0506732  0.0498725  0.04886421]\n"
     ]
    },
    {
     "data": {
      "text/html": [
       "<div>\n",
       "<style scoped>\n",
       "    .dataframe tbody tr th:only-of-type {\n",
       "        vertical-align: middle;\n",
       "    }\n",
       "\n",
       "    .dataframe tbody tr th {\n",
       "        vertical-align: top;\n",
       "    }\n",
       "\n",
       "    .dataframe thead th {\n",
       "        text-align: right;\n",
       "    }\n",
       "</style>\n",
       "<table border=\"1\" class=\"dataframe\">\n",
       "  <thead>\n",
       "    <tr style=\"text-align: right;\">\n",
       "      <th></th>\n",
       "      <th>movienm</th>\n",
       "      <th>genreid</th>\n",
       "    </tr>\n",
       "    <tr>\n",
       "      <th>movieid</th>\n",
       "      <th></th>\n",
       "      <th></th>\n",
       "    </tr>\n",
       "  </thead>\n",
       "  <tbody>\n",
       "    <tr>\n",
       "      <th>1721</th>\n",
       "      <td>Titanic (1997)</td>\n",
       "      <td>Drama, Romance</td>\n",
       "    </tr>\n",
       "    <tr>\n",
       "      <th>1997</th>\n",
       "      <td>Exorcist, The (1973)</td>\n",
       "      <td>Horror</td>\n",
       "    </tr>\n",
       "    <tr>\n",
       "      <th>356</th>\n",
       "      <td>Forrest Gump (1994)</td>\n",
       "      <td>Comedy, Romance, War</td>\n",
       "    </tr>\n",
       "    <tr>\n",
       "      <th>1258</th>\n",
       "      <td>Shining, The (1980)</td>\n",
       "      <td>Horror</td>\n",
       "    </tr>\n",
       "    <tr>\n",
       "      <th>253</th>\n",
       "      <td>Interview with the Vampire (1994)</td>\n",
       "      <td>Drama, Horror</td>\n",
       "    </tr>\n",
       "    <tr>\n",
       "      <th>1982</th>\n",
       "      <td>Halloween (1978)</td>\n",
       "      <td>Horror</td>\n",
       "    </tr>\n",
       "    <tr>\n",
       "      <th>3499</th>\n",
       "      <td>Misery (1990)</td>\n",
       "      <td>Horror</td>\n",
       "    </tr>\n",
       "    <tr>\n",
       "      <th>1345</th>\n",
       "      <td>Carrie (1976)</td>\n",
       "      <td>Horror</td>\n",
       "    </tr>\n",
       "    <tr>\n",
       "      <th>1339</th>\n",
       "      <td>Bram Stoker's Dracula (1992)</td>\n",
       "      <td>Horror, Romance</td>\n",
       "    </tr>\n",
       "    <tr>\n",
       "      <th>1393</th>\n",
       "      <td>Jerry Maguire (1996)</td>\n",
       "      <td>Drama, Romance</td>\n",
       "    </tr>\n",
       "  </tbody>\n",
       "</table>\n",
       "</div>"
      ],
      "text/plain": [
       "                                   movienm               genreid\n",
       "movieid                                                         \n",
       "1721                        Titanic (1997)        Drama, Romance\n",
       "1997                  Exorcist, The (1973)                Horror\n",
       "356                    Forrest Gump (1994)  Comedy, Romance, War\n",
       "1258                   Shining, The (1980)                Horror\n",
       "253      Interview with the Vampire (1994)         Drama, Horror\n",
       "1982                      Halloween (1978)                Horror\n",
       "3499                         Misery (1990)                Horror\n",
       "1345                         Carrie (1976)                Horror\n",
       "1339          Bram Stoker's Dracula (1992)       Horror, Romance\n",
       "1393                  Jerry Maguire (1996)        Drama, Romance"
      ]
     },
     "execution_count": 42,
     "metadata": {},
     "output_type": "execute_result"
    }
   ],
   "source": [
    "top_n = 10\n",
    "print(np.sort(score)[::-1][:top_n])\n",
    "movies.loc[np.argsort(-score)[:top_n]]"
   ]
  },
  {
   "cell_type": "markdown",
   "metadata": {
    "slideshow": {
     "slide_type": "slide"
    }
   },
   "source": [
    "### Cумма функций\n",
    "    \n",
    "$$ f(x, w) = \\sum_{i=1}^m f(x_i, w) $$\n",
    "\n",
    "- Обычно $m$ очень большое\n",
    "- Но хранить градиенты всё ещё можно"
   ]
  },
  {
   "cell_type": "markdown",
   "metadata": {
    "slideshow": {
     "slide_type": "slide"
    }
   },
   "source": [
    "### Классические формулировки задач машинного обучения\n",
    "\n",
    "- Регрессия\n",
    "\n",
    "$$\\| f(x, w) - y\\|^2_2 \\to \\min_w $$\n",
    "\n",
    "- Классификация\n",
    "\n",
    "$$\\sum_{i=1}^m \\ell(w \\mid x_i, y_i) \\to \\min_w $$"
   ]
  },
  {
   "cell_type": "markdown",
   "metadata": {
    "slideshow": {
     "slide_type": "slide"
    }
   },
   "source": [
    "### Когда нужно не совсем решение\n",
    "\n",
    "- Обобщающая способность и переобучение\n",
    "- Специальный вид функций потерь и моделей, минимизация которых даёт лучшую обобщаемость"
   ]
  },
  {
   "cell_type": "code",
   "execution_count": 8,
   "metadata": {
    "slideshow": {
     "slide_type": "slide"
    }
   },
   "outputs": [
    {
     "data": {
      "text/plain": [
       "[<matplotlib.lines.Line2D at 0x1203e1ba8>]"
      ]
     },
     "execution_count": 8,
     "metadata": {},
     "output_type": "execute_result"
    },
    {
     "data": {
      "image/png": "[encoded data removed]",
      "text/plain": [
       "<Figure size 432x288 with 1 Axes>"
      ]
     },
     "metadata": {
      "needs_background": "light"
     },
     "output_type": "display_data"
    }
   ],
   "source": [
    "import torch\n",
    "import numpy as np\n",
    "import matplotlib.pyplot as plt\n",
    "%matplotlib inline\n",
    "\n",
    "w = np.array([1, -0.5, 10, 0])\n",
    "def f(x, w=w):\n",
    "    return w[0] * torch.exp(x * w[1]) * torch.cos(w[2] * x + w[3])\n",
    "\n",
    "num_points = 100\n",
    "x_range = torch.linspace(0, 5, steps=num_points)\n",
    "plt.plot(x_range.numpy(), f(x_range).numpy())"
   ]
  },
  {
   "cell_type": "code",
   "execution_count": 9,
   "metadata": {
    "slideshow": {
     "slide_type": "slide"
    }
   },
   "outputs": [
    {
     "data": {
      "text/plain": [
       "<matplotlib.collections.PathCollection at 0x1204418d0>"
      ]
     },
     "execution_count": 9,
     "metadata": {},
     "output_type": "execute_result"
    },
    {
     "data": {
      "image/png": "[encoded data removed]",
      "text/plain": [
       "<Figure size 432x288 with 1 Axes>"
      ]
     },
     "metadata": {
      "needs_background": "light"
     },
     "output_type": "display_data"
    }
   ],
   "source": [
    "num_samples = 50\n",
    "x_samples = torch.tensor(np.random.choice(x_range, size=num_samples))\n",
    "y_samples = f(x_samples) + 0.05 * torch.randn(num_samples)\n",
    "plt.scatter(x_samples.numpy(), y_samples.numpy(), c=\"red\")"
   ]
  },
  {
   "cell_type": "code",
   "execution_count": 18,
   "metadata": {
    "scrolled": true,
    "slideshow": {
     "slide_type": "slide"
    }
   },
   "outputs": [
    {
     "name": "stdout",
     "output_type": "stream",
     "text": [
      "5.438385486602783\n",
      "5.428042411804199\n",
      "5.417688369750977\n",
      "5.407319068908691\n",
      "5.396934986114502\n",
      "5.386532783508301\n",
      "5.376114368438721\n",
      "5.3656768798828125\n",
      "5.355220794677734\n",
      "5.344744682312012\n",
      "5.334249973297119\n",
      "5.323734283447266\n",
      "5.313197612762451\n",
      "5.302639961242676\n",
      "5.292059898376465\n",
      "5.281457901000977\n",
      "5.270833969116211\n",
      "5.260185718536377\n",
      "5.249515533447266\n",
      "5.238821029663086\n",
      "5.228102684020996\n",
      "5.217360496520996\n",
      "5.206594944000244\n",
      "5.195803642272949\n",
      "5.184988021850586\n",
      "5.174147605895996\n",
      "5.1632819175720215\n",
      "5.152392387390137\n",
      "5.141476631164551\n",
      "5.130536079406738\n",
      "5.119570255279541\n",
      "5.108579635620117\n",
      "5.097562789916992\n",
      "5.086522102355957\n",
      "5.075455188751221\n",
      "5.064363479614258\n",
      "5.05324649810791\n",
      "5.042104721069336\n",
      "5.030938148498535\n",
      "5.01974630355835\n",
      "5.008530139923096\n",
      "4.997288703918457\n",
      "4.986021995544434\n",
      "4.9747314453125\n",
      "4.963415622711182\n",
      "4.952075481414795\n",
      "4.94071102142334\n",
      "4.929320335388184\n",
      "4.917905807495117\n",
      "4.906465530395508\n",
      "4.895000457763672\n",
      "4.883509159088135\n",
      "4.871993064880371\n",
      "4.860450744628906\n",
      "4.848881721496582\n",
      "4.837286472320557\n",
      "4.825664520263672\n",
      "4.8140153884887695\n",
      "4.802338600158691\n",
      "4.790633201599121\n",
      "4.778900146484375\n",
      "4.767139434814453\n",
      "4.755349159240723\n",
      "4.7435302734375\n",
      "4.731681823730469\n",
      "4.7198052406311035\n",
      "4.7078986167907715\n",
      "4.695962905883789\n",
      "4.68399715423584\n",
      "4.672002792358398\n",
      "4.659978866577148\n",
      "4.64792537689209\n",
      "4.635842323303223\n",
      "4.623730659484863\n",
      "4.611589431762695\n",
      "4.599418640136719\n",
      "4.58721923828125\n",
      "4.574991226196289\n",
      "4.5627336502075195\n",
      "4.550447463989258\n",
      "4.538132667541504\n",
      "4.525789737701416\n",
      "4.513418197631836\n",
      "4.501018047332764\n",
      "4.488589286804199\n",
      "4.476132392883301\n",
      "4.463647842407227\n",
      "4.451135158538818\n",
      "4.438594341278076\n",
      "4.426025867462158\n",
      "4.413429260253906\n",
      "4.400805473327637\n",
      "4.388153553009033\n",
      "4.37547492980957\n",
      "4.362768173217773\n",
      "4.350034713745117\n",
      "4.337273597717285\n",
      "4.324486255645752\n",
      "4.311672210693359\n",
      "4.298830986022949\n",
      "4.28596305847168\n",
      "4.273069381713867\n",
      "4.2601494789123535\n",
      "4.247203350067139\n",
      "4.234231472015381\n",
      "4.221234321594238\n",
      "4.208211421966553\n",
      "4.195163726806641\n",
      "4.182090759277344\n",
      "4.16899299621582\n",
      "4.15587043762207\n",
      "4.14272403717041\n",
      "4.129553318023682\n",
      "4.116359233856201\n",
      "4.103140830993652\n",
      "4.089900016784668\n",
      "4.076635360717773\n",
      "4.063348293304443\n",
      "4.050038814544678\n",
      "4.036706447601318\n",
      "4.02335262298584\n",
      "4.009976863861084\n",
      "3.996579885482788\n",
      "3.983161449432373\n",
      "3.9697227478027344\n",
      "3.9562630653381348\n",
      "3.9427835941314697\n",
      "3.92928409576416\n",
      "3.9157657623291016\n",
      "3.9022278785705566\n",
      "3.888671398162842\n",
      "3.875096321105957\n",
      "3.8615031242370605\n",
      "3.8478925228118896\n",
      "3.8342647552490234\n",
      "3.820620059967041\n",
      "3.8069589138031006\n",
      "3.7932820320129395\n",
      "3.7795891761779785\n",
      "3.7658815383911133\n",
      "3.7521591186523438\n",
      "3.738422393798828\n",
      "3.7246713638305664\n",
      "3.710907459259033\n",
      "3.6971302032470703\n",
      "3.6833410263061523\n",
      "3.669539451599121\n",
      "3.655726432800293\n",
      "3.6419029235839844\n",
      "3.628068447113037\n",
      "3.614224910736084\n",
      "3.6003713607788086\n",
      "3.5865092277526855\n",
      "3.572638511657715\n",
      "3.558760643005371\n",
      "3.5448756217956543\n",
      "3.5309834480285645\n",
      "3.5170860290527344\n",
      "3.503182888031006\n",
      "3.4892752170562744\n",
      "3.4753637313842773\n",
      "3.4614477157592773\n",
      "3.4475297927856445\n",
      "3.4336092472076416\n",
      "3.419687032699585\n",
      "3.405764579772949\n",
      "3.391841173171997\n",
      "3.3779187202453613\n",
      "3.363997459411621\n",
      "3.3500778675079346\n",
      "3.3361613750457764\n",
      "3.3222482204437256\n",
      "3.3083388805389404\n",
      "3.2944345474243164\n",
      "3.280535936355591\n",
      "3.266643762588501\n",
      "3.252758502960205\n",
      "3.2388815879821777\n",
      "3.225013256072998\n",
      "3.2111549377441406\n",
      "3.1973066329956055\n",
      "3.183469772338867\n",
      "3.169645071029663\n",
      "3.1558332443237305\n",
      "3.1420350074768066\n",
      "3.1282520294189453\n",
      "3.1144843101501465\n",
      "3.1007332801818848\n",
      "3.0869998931884766\n",
      "3.07328462600708\n",
      "3.05958890914917\n",
      "3.0459132194519043\n",
      "3.032258987426758\n",
      "3.0186266899108887\n",
      "3.0050172805786133\n",
      "2.9914324283599854\n",
      "2.977872371673584\n",
      "2.9643383026123047\n",
      "2.950831890106201\n",
      "2.9373536109924316\n",
      "2.9239039421081543\n",
      "2.910484790802002\n",
      "2.897096872329712\n",
      "2.8837409019470215\n",
      "2.8704185485839844\n",
      "2.857131004333496\n",
      "2.843878746032715\n",
      "2.8306632041931152\n",
      "2.8174848556518555\n",
      "2.8043460845947266\n",
      "2.7912468910217285\n",
      "2.778188943862915\n",
      "2.7651729583740234\n",
      "2.7522006034851074\n",
      "2.7392728328704834\n",
      "2.7263901233673096\n",
      "2.713554859161377\n",
      "2.7007668018341064\n",
      "2.688028335571289\n",
      "2.675339698791504\n",
      "2.662703037261963\n",
      "2.650118589401245\n",
      "2.6375880241394043\n",
      "2.625112295150757\n",
      "2.6126928329467773\n",
      "2.600330352783203\n",
      "2.588027000427246\n",
      "2.5757827758789062\n",
      "2.5635995864868164\n",
      "2.551478385925293\n",
      "2.5394206047058105\n",
      "2.5274271965026855\n",
      "2.5154988765716553\n",
      "2.5036373138427734\n",
      "2.4918441772460938\n",
      "2.4801197052001953\n",
      "2.4684650897979736\n",
      "2.4568819999694824\n",
      "2.445371627807617\n",
      "2.4339346885681152\n",
      "2.422572374343872\n",
      "2.411285638809204\n",
      "2.400076150894165\n",
      "2.388944625854492\n",
      "2.377892255783081\n",
      "2.36691951751709\n",
      "2.356027841567993\n",
      "2.3452186584472656\n",
      "2.3344926834106445\n",
      "2.323850393295288\n",
      "2.313293695449829\n",
      "2.3028223514556885\n",
      "2.2924387454986572\n",
      "2.282142400741577\n",
      "2.271934986114502\n",
      "2.2618165016174316\n",
      "2.251789093017578\n",
      "2.241852283477783\n",
      "2.2320077419281006\n",
      "2.2222559452056885\n",
      "2.2125966548919678\n",
      "2.2030320167541504\n",
      "2.1935620307922363\n",
      "2.184187412261963\n",
      "2.1749086380004883\n",
      "2.1657259464263916\n",
      "2.1566402912139893\n",
      "2.1476519107818604\n",
      "2.138761520385742\n",
      "2.1299684047698975\n",
      "2.121273994445801\n",
      "2.1126790046691895\n",
      "2.104182720184326\n",
      "2.095785140991211\n",
      "2.08748722076416\n",
      "2.079288959503174\n",
      "2.071190357208252\n",
      "2.0631909370422363\n",
      "2.0552916526794434\n",
      "2.0474910736083984\n",
      "2.039790153503418\n",
      "2.0321884155273438\n",
      "2.0246856212615967\n",
      "2.017282009124756\n",
      "2.009976387023926\n",
      "2.0027692317962646\n",
      "1.9956594705581665\n",
      "1.9886468648910522\n",
      "1.9817309379577637\n",
      "1.9749115705490112\n",
      "1.9681875705718994\n",
      "1.9615585803985596\n",
      "1.9550230503082275\n",
      "1.948581337928772\n",
      "1.9422324895858765\n",
      "1.9359755516052246\n",
      "1.929809331893921\n",
      "1.9237333536148071\n",
      "1.917746663093567\n",
      "1.911847710609436\n",
      "1.9060359001159668\n",
      "1.9003105163574219\n",
      "1.894668698310852\n",
      "1.8891117572784424\n",
      "1.883636713027954\n",
      "1.87824285030365\n",
      "1.8729296922683716\n",
      "1.867694616317749\n",
      "1.862537145614624\n",
      "1.8574554920196533\n",
      "1.8524484634399414\n",
      "1.8475146293640137\n",
      "1.8426533937454224\n",
      "1.8378620147705078\n",
      "1.8331401348114014\n",
      "1.828485131263733\n",
      "1.823897123336792\n",
      "1.8193732500076294\n",
      "1.8149118423461914\n",
      "1.8105124235153198\n",
      "1.8061739206314087\n",
      "1.8018932342529297\n",
      "1.7976701259613037\n",
      "1.7935023307800293\n",
      "1.7893891334533691\n",
      "1.785327434539795\n",
      "1.781317949295044\n",
      "1.7773582935333252\n",
      "1.7734464406967163\n",
      "1.76958167552948\n",
      "1.7657620906829834\n",
      "1.7619861364364624\n",
      "1.758253574371338\n",
      "1.754561424255371\n",
      "1.7509101629257202\n",
      "1.7472963333129883\n",
      "1.743720293045044\n",
      "1.740180253982544\n",
      "1.7366747856140137\n",
      "1.7332029342651367\n",
      "1.7297629117965698\n",
      "1.7263540029525757\n",
      "1.722975254058838\n",
      "1.71962571144104\n",
      "1.7163031101226807\n",
      "1.7130076885223389\n",
      "1.7097378969192505\n",
      "1.7064924240112305\n",
      "1.7032713890075684\n",
      "1.7000724077224731\n",
      "1.6968958377838135\n",
      "1.6937400102615356\n",
      "1.6906044483184814\n",
      "1.6874878406524658\n",
      "1.6843901872634888\n",
      "1.6813100576400757\n",
      "1.6782476902008057\n",
      "1.6752007007598877\n",
      "1.6721700429916382\n",
      "1.6691546440124512\n",
      "1.6661536693572998\n",
      "1.6631659269332886\n",
      "1.6601922512054443\n",
      "1.657231092453003\n",
      "1.6542820930480957\n",
      "1.6513447761535645\n",
      "1.6484196186065674\n",
      "1.6455051898956299\n",
      "1.6426011323928833\n",
      "1.6397068500518799\n",
      "1.6368228197097778\n",
      "1.6339471340179443\n",
      "1.6310813426971436\n",
      "1.6282243728637695\n",
      "1.625375509262085\n",
      "1.622535228729248\n",
      "1.619702696800232\n",
      "1.6168773174285889\n",
      "1.6140594482421875\n",
      "1.6112487316131592\n",
      "1.608445167541504\n",
      "1.6056486368179321\n",
      "1.6028578281402588\n",
      "1.600074052810669\n",
      "1.5972967147827148\n",
      "1.59452486038208\n",
      "1.5917595624923706\n",
      "1.5889997482299805\n",
      "1.5862455368041992\n",
      "1.5834975242614746\n",
      "1.5807538032531738\n",
      "1.5780164003372192\n",
      "1.5752837657928467\n",
      "1.5725568532943726\n",
      "1.5698343515396118\n",
      "1.5671167373657227\n",
      "1.564403772354126\n",
      "1.5616968870162964\n",
      "1.5589942932128906\n",
      "1.5562962293624878\n",
      "1.5536028146743774\n",
      "1.5509146451950073\n",
      "1.5482308864593506\n",
      "1.5455515384674072\n",
      "1.5428762435913086\n",
      "1.540205955505371\n",
      "1.537540078163147\n",
      "1.5348784923553467\n",
      "1.5322215557098389\n",
      "1.5295686721801758\n",
      "1.5269203186035156\n",
      "1.524276614189148\n",
      "1.521637201309204\n",
      "1.519000768661499\n",
      "1.5163705348968506\n",
      "1.5137431621551514\n",
      "1.511120080947876\n",
      "1.5085017681121826\n",
      "1.5058873891830444\n",
      "1.5032780170440674\n",
      "1.5006712675094604\n",
      "1.4980692863464355\n",
      "1.4954720735549927\n",
      "1.4928786754608154\n",
      "1.4902896881103516\n",
      "1.4877040386199951\n",
      "1.485123634338379\n",
      "1.482546329498291\n",
      "1.4799737930297852\n",
      "1.4774051904678345\n",
      "1.474840521812439\n",
      "1.4722802639007568\n",
      "1.4697237014770508\n",
      "1.4671714305877686\n",
      "1.4646235704421997\n",
      "1.462079644203186\n",
      "1.4595388174057007\n",
      "1.4570035934448242\n",
      "1.4544718265533447\n",
      "1.4519436359405518\n",
      "1.4494202136993408\n",
      "1.4469006061553955\n",
      "1.4443848133087158\n",
      "1.4418737888336182\n",
      "1.4393656253814697\n",
      "1.4368627071380615\n",
      "1.4343628883361816\n",
      "1.4318678379058838\n",
      "1.4293770790100098\n",
      "1.426889419555664\n",
      "1.4244062900543213\n",
      "1.421926736831665\n",
      "1.4194515943527222\n",
      "1.4169809818267822\n",
      "1.414513349533081\n",
      "1.412050485610962\n",
      "1.409591555595398\n",
      "1.4071362018585205\n",
      "1.4046854972839355\n",
      "1.4022388458251953\n",
      "1.3997957706451416\n",
      "1.397356629371643\n",
      "1.3949220180511475\n",
      "1.3924907445907593\n",
      "1.390064001083374\n",
      "1.387641191482544\n",
      "1.3852219581604004\n",
      "1.3828070163726807\n",
      "1.3803961277008057\n",
      "1.3779886960983276\n",
      "1.3755861520767212\n",
      "1.3731865882873535\n",
      "1.3707914352416992\n",
      "1.3684000968933105\n",
      "1.3660128116607666\n",
      "1.3636300563812256\n",
      "1.361250877380371\n",
      "1.358874797821045\n",
      "1.3565037250518799\n",
      "1.3541364669799805\n",
      "1.3517725467681885\n",
      "1.3494129180908203\n",
      "1.3470577001571655\n",
      "1.3447058200836182\n",
      "1.3423583507537842\n",
      "1.3400146961212158\n",
      "1.3376739025115967\n",
      "1.3353383541107178\n",
      "1.3330059051513672\n",
      "1.33067786693573\n",
      "1.3283534049987793\n",
      "1.3260327577590942\n",
      "1.323716640472412\n",
      "1.3214040994644165\n",
      "1.3190951347351074\n",
      "1.3167901039123535\n",
      "1.314489483833313\n",
      "1.3121917247772217\n",
      "1.3098989725112915\n",
      "1.3076090812683105\n",
      "1.3053234815597534\n",
      "1.3030425310134888\n",
      "1.3007642030715942\n",
      "1.2984908819198608\n",
      "1.296220064163208\n",
      "1.2939538955688477\n",
      "1.2916920185089111\n",
      "1.289433479309082\n",
      "1.287178635597229\n",
      "1.284927487373352\n",
      "1.2826800346374512\n",
      "1.2804369926452637\n",
      "1.278198003768921\n",
      "1.2759621143341064\n",
      "1.2737300395965576\n",
      "1.271502137184143\n",
      "1.2692779302597046\n",
      "1.2670576572418213\n",
      "1.2648403644561768\n",
      "1.2626279592514038\n",
      "1.2604188919067383\n",
      "1.2582132816314697\n",
      "1.256011962890625\n",
      "1.2538142204284668\n",
      "1.2516201734542847\n",
      "1.2494295835494995\n",
      "1.2472431659698486\n",
      "1.2450602054595947\n",
      "1.2428815364837646\n",
      "1.240705966949463\n",
      "1.2385344505310059\n",
      "1.2363662719726562\n",
      "1.23420250415802\n",
      "1.2320421934127808\n",
      "1.2298848628997803\n",
      "1.2277323007583618\n",
      "1.2255827188491821\n",
      "1.2234375476837158\n",
      "1.2212960720062256\n",
      "1.2191574573516846\n",
      "1.2170228958129883\n",
      "1.2148916721343994\n",
      "1.2127649784088135\n",
      "1.210641622543335\n",
      "1.2085211277008057\n",
      "1.2064054012298584\n",
      "1.2042930126190186\n",
      "1.2021840810775757\n",
      "1.200079083442688\n",
      "1.1979774236679077\n",
      "1.195879578590393\n",
      "1.1937849521636963\n",
      "1.1916944980621338\n",
      "1.1896069049835205\n",
      "1.1875240802764893\n",
      "1.1854444742202759\n",
      "1.1833679676055908\n",
      "1.1812957525253296\n",
      "1.1792266368865967\n",
      "1.1771613359451294\n",
      "1.1750998497009277\n",
      "1.1730411052703857\n",
      "1.1709868907928467\n",
      "1.1689356565475464\n",
      "1.1668884754180908\n",
      "1.164844274520874\n",
      "1.162804126739502\n",
      "1.1607675552368164\n",
      "1.1587339639663696\n",
      "1.1567046642303467\n",
      "1.1546781063079834\n",
      "1.1526557207107544\n",
      "1.1506364345550537\n",
      "1.1486209630966187\n",
      "1.1466100215911865\n",
      "1.1446006298065186\n",
      "1.142595887184143\n",
      "1.1405938863754272\n",
      "1.1385962963104248\n",
      "1.1366019248962402\n",
      "1.134610891342163\n",
      "1.1326234340667725\n",
      "1.1306395530700684\n",
      "1.1286592483520508\n",
      "1.1266820430755615\n",
      "1.1247085332870483\n",
      "1.1227384805679321\n",
      "1.120771884918213\n",
      "1.118808627128601\n",
      "1.1168489456176758\n",
      "1.1148923635482788\n",
      "1.112939715385437\n",
      "1.1109906435012817\n",
      "1.1090443134307861\n",
      "1.1071020364761353\n",
      "1.1051628589630127\n",
      "1.103227138519287\n",
      "1.1012945175170898\n",
      "1.0993659496307373\n",
      "1.097440242767334\n",
      "1.0955182313919067\n",
      "1.0935990810394287\n",
      "1.0916844606399536\n",
      "1.0897724628448486\n",
      "1.0878636837005615\n",
      "1.08595871925354\n",
      "1.0840567350387573\n",
      "1.082158088684082\n",
      "1.0802631378173828\n",
      "1.078371524810791\n",
      "1.0764830112457275\n",
      "1.0745981931686401\n",
      "1.072716236114502\n",
      "1.0708377361297607\n",
      "1.0689626932144165\n",
      "1.0670908689498901\n",
      "1.0652225017547607\n",
      "1.0633573532104492\n",
      "1.061495304107666\n",
      "1.0596369504928589\n",
      "1.0577815771102905\n",
      "1.055930256843567\n",
      "1.054081678390503\n",
      "1.0522360801696777\n",
      "1.050394058227539\n",
      "1.0485550165176392\n",
      "1.0467197895050049\n",
      "1.0448873043060303\n",
      "1.0430583953857422\n",
      "1.0412321090698242\n",
      "1.0394102334976196\n",
      "1.037590503692627\n",
      "1.0357744693756104\n",
      "1.033961296081543\n",
      "1.0321524143218994\n",
      "1.0303459167480469\n",
      "1.0285429954528809\n",
      "1.0267424583435059\n",
      "1.0249463319778442\n",
      "1.023152470588684\n",
      "1.021362066268921\n",
      "1.0195751190185547\n",
      "1.0177910327911377\n",
      "1.016010046005249\n",
      "1.0142327547073364\n",
      "1.0124582052230835\n",
      "1.0106868743896484\n",
      "1.0089187622070312\n",
      "1.0071542263031006\n",
      "1.005392074584961\n",
      "1.0036336183547974\n",
      "1.001878023147583\n",
      "1.0001252889633179\n",
      "0.9983762502670288\n",
      "0.9966302514076233\n",
      "0.9948873519897461\n",
      "0.9931479692459106\n",
      "0.9914103746414185\n",
      "0.9896774888038635\n",
      "0.9879465699195862\n",
      "0.9862194061279297\n",
      "0.9844951033592224\n",
      "0.9827740788459778\n",
      "0.9810558557510376\n",
      "0.9793408513069153\n",
      "0.9776285886764526\n",
      "0.9759200811386108\n",
      "0.9742137789726257\n",
      "0.9725114107131958\n",
      "0.9708112478256226\n",
      "0.9691148400306702\n",
      "0.9674209952354431\n",
      "0.9657301902770996\n",
      "0.9640429019927979\n",
      "0.9623582363128662\n",
      "0.960676908493042\n",
      "0.9589982628822327\n",
      "0.9573229551315308\n",
      "0.9556500911712646\n",
      "0.9539812207221985\n"
     ]
    },
    {
     "name": "stdout",
     "output_type": "stream",
     "text": [
      "0.9523144960403442\n",
      "0.9506511688232422\n",
      "0.9489903450012207\n",
      "0.9473330974578857\n",
      "0.9456790089607239\n",
      "0.944027304649353\n",
      "0.9423787593841553\n",
      "0.9407334327697754\n",
      "0.9390905499458313\n",
      "0.9374513030052185\n",
      "0.935814380645752\n",
      "0.934180498123169\n",
      "0.9325498342514038\n",
      "0.9309214353561401\n",
      "0.9292970895767212\n",
      "0.9276752471923828\n",
      "0.9260563254356384\n",
      "0.9244400858879089\n",
      "0.9228270053863525\n",
      "0.9212162494659424\n",
      "0.9196093678474426\n",
      "0.9180043935775757\n",
      "0.9164031744003296\n",
      "0.9148041009902954\n",
      "0.9132083654403687\n",
      "0.9116155505180359\n",
      "0.910025417804718\n",
      "0.9084386825561523\n",
      "0.9068537950515747\n",
      "0.9052727222442627\n",
      "0.9036937355995178\n",
      "0.902118444442749\n",
      "0.9005452394485474\n",
      "0.8989750146865845\n",
      "0.8974082469940186\n",
      "0.8958435654640198\n",
      "0.8942821621894836\n",
      "0.8927236795425415\n",
      "0.8911678194999695\n",
      "0.8896145224571228\n",
      "0.8880646824836731\n",
      "0.8865171074867249\n",
      "0.8849722743034363\n",
      "0.8834308385848999\n",
      "0.8818914890289307\n",
      "0.880355715751648\n",
      "0.8788221478462219\n",
      "0.8772915601730347\n",
      "0.8757634162902832\n",
      "0.874238133430481\n",
      "0.8727161884307861\n",
      "0.8711962699890137\n",
      "0.8696795105934143\n",
      "0.8681655526161194\n",
      "0.8666541576385498\n",
      "0.8651455640792847\n",
      "0.8636400103569031\n",
      "0.8621364235877991\n",
      "0.8606362342834473\n",
      "0.8591387271881104\n",
      "0.8576436638832092\n",
      "0.856151819229126\n",
      "0.8546620607376099\n",
      "0.8531750440597534\n",
      "0.8516913652420044\n",
      "0.8502098917961121\n",
      "0.8487313389778137\n",
      "0.8472550511360168\n",
      "0.8457822799682617\n",
      "0.8443114161491394\n",
      "0.8428431749343872\n",
      "0.8413781523704529\n",
      "0.8399153351783752\n",
      "0.8384557962417603\n",
      "0.8369980454444885\n",
      "0.8355440497398376\n",
      "0.8340919017791748\n",
      "0.8326424956321716\n",
      "0.8311960101127625\n",
      "0.8297516703605652\n",
      "0.828310489654541\n",
      "0.8268715739250183\n",
      "0.8254355192184448\n",
      "0.8240020871162415\n",
      "0.8225706219673157\n",
      "0.8211429119110107\n",
      "0.8197170495986938\n",
      "0.8182936906814575\n",
      "0.8168736696243286\n",
      "0.8154554963111877\n",
      "0.8140405416488647\n",
      "0.8126275539398193\n",
      "0.8112172484397888\n",
      "0.8098100423812866\n",
      "0.808404803276062\n",
      "0.8070027232170105\n",
      "0.8056026697158813\n",
      "0.804205060005188\n",
      "0.802810549736023\n",
      "0.8014180660247803\n",
      "0.8000287413597107\n",
      "0.7986418008804321\n",
      "0.7972568273544312\n",
      "0.7958753108978271\n",
      "0.7944954633712769\n",
      "0.7931187152862549\n",
      "0.7917441129684448\n",
      "0.7903721332550049\n",
      "0.7890026569366455\n",
      "0.7876359820365906\n",
      "0.786271333694458\n",
      "0.7849093675613403\n",
      "0.7835497260093689\n",
      "0.7821934223175049\n",
      "0.7808386087417603\n",
      "0.779487133026123\n",
      "0.7781372666358948\n",
      "0.7767901420593262\n",
      "0.7754459977149963\n",
      "0.7741037607192993\n",
      "0.7727639675140381\n",
      "0.7714268565177917\n",
      "0.7700920701026917\n",
      "0.7687602043151855\n",
      "0.7674300670623779\n",
      "0.7661027908325195\n",
      "0.7647782564163208\n",
      "0.7634553909301758\n",
      "0.7621352672576904\n",
      "0.7608180642127991\n",
      "0.7595022320747375\n",
      "0.7581897974014282\n",
      "0.7568793892860413\n",
      "0.7555713653564453\n",
      "0.7542660236358643\n",
      "0.752962589263916\n",
      "0.7516617774963379\n",
      "0.7503639459609985\n",
      "0.7490676045417786\n",
      "0.7477744817733765\n",
      "0.746482789516449\n",
      "0.7451938986778259\n",
      "0.7439078092575073\n",
      "0.7426233887672424\n",
      "0.7413414120674133\n",
      "0.7400622963905334\n",
      "0.7387850284576416\n",
      "0.7375107407569885\n",
      "0.7362381815910339\n",
      "0.7349680066108704\n",
      "0.7337005138397217\n",
      "0.7324351072311401\n",
      "0.7311722636222839\n",
      "0.7299118638038635\n",
      "0.7286535501480103\n",
      "0.7273974418640137\n",
      "0.7261438965797424\n",
      "0.7248925566673279\n",
      "0.7236440181732178\n",
      "0.7223970890045166\n",
      "0.7211524248123169\n",
      "0.7199103832244873\n",
      "0.718670129776001\n",
      "0.7174326777458191\n",
      "0.7161973714828491\n",
      "0.7149643301963806\n",
      "0.713733434677124\n",
      "0.7125051021575928\n",
      "0.7112789154052734\n",
      "0.7100546956062317\n",
      "0.7088332176208496\n",
      "0.7076137065887451\n",
      "0.7063965797424316\n",
      "0.7051815986633301\n",
      "0.7039690017700195\n",
      "0.7027583718299866\n",
      "0.7015507221221924\n",
      "0.7003445029258728\n",
      "0.6991413235664368\n",
      "0.6979397535324097\n",
      "0.6967403888702393\n",
      "0.695543646812439\n",
      "0.6943486928939819\n",
      "0.6931558847427368\n",
      "0.6919660568237305\n",
      "0.6907776594161987\n",
      "0.6895914077758789\n",
      "0.6884080171585083\n",
      "0.6872261762619019\n",
      "0.6860465407371521\n",
      "0.6848692893981934\n",
      "0.6836941242218018\n",
      "0.6825209856033325\n",
      "0.6813508868217468\n",
      "0.6801818609237671\n",
      "0.6790153384208679\n",
      "0.6778517961502075\n",
      "0.6766893863677979\n",
      "0.6755293011665344\n",
      "0.6743717193603516\n",
      "0.6732161045074463\n",
      "0.6720624566078186\n",
      "0.670911431312561\n",
      "0.6697620749473572\n",
      "0.6686150431632996\n",
      "0.6674704551696777\n",
      "0.6663272380828857\n",
      "0.6651866436004639\n",
      "0.6640485525131226\n",
      "0.6629120111465454\n",
      "0.6617776155471802\n",
      "0.6606457829475403\n",
      "0.659515380859375\n",
      "0.6583871245384216\n",
      "0.6572616696357727\n",
      "0.6561376452445984\n",
      "0.6550159454345703\n",
      "0.6538963317871094\n",
      "0.6527789831161499\n",
      "0.6516633629798889\n",
      "0.6505498886108398\n",
      "0.6494388580322266\n",
      "0.6483298540115356\n",
      "0.6472222805023193\n",
      "0.6461175084114075\n",
      "0.6450144648551941\n",
      "0.6439135074615479\n",
      "0.6428145170211792\n",
      "0.6417176127433777\n",
      "0.6406228542327881\n",
      "0.6395301818847656\n",
      "0.6384396553039551\n",
      "0.6373504996299744\n",
      "0.6362637281417847\n",
      "0.6351795196533203\n",
      "0.6340967416763306\n",
      "0.633016049861908\n",
      "0.631937563419342\n",
      "0.6308611631393433\n",
      "0.6297866702079773\n",
      "0.6287142634391785\n",
      "0.6276435256004333\n",
      "0.6265749931335449\n",
      "0.6255087852478027\n",
      "0.6244440078735352\n",
      "0.6233812570571899\n",
      "0.6223206520080566\n",
      "0.6212623715400696\n",
      "0.6202056407928467\n",
      "0.6191505193710327\n",
      "0.618098258972168\n",
      "0.6170472502708435\n",
      "0.6159983277320862\n",
      "0.6149516105651855\n",
      "0.6139066815376282\n",
      "0.6128634214401245\n",
      "0.6118223667144775\n",
      "0.6107835173606873\n",
      "0.6097462773323059\n",
      "0.6087110638618469\n",
      "0.6076779365539551\n",
      "0.6066464781761169\n",
      "0.6056169271469116\n",
      "0.6045894622802734\n",
      "0.6035645008087158\n",
      "0.6025404930114746\n",
      "0.6015187501907349\n",
      "0.600499153137207\n",
      "0.5994812250137329\n",
      "0.5984653234481812\n",
      "0.5974514484405518\n",
      "0.5964391231536865\n",
      "0.5954288244247437\n",
      "0.5944201946258545\n",
      "0.5934141874313354\n",
      "0.5924092531204224\n",
      "0.5914068222045898\n",
      "0.5904057025909424\n",
      "0.5894069671630859\n",
      "0.5884098410606384\n",
      "0.5874148607254028\n",
      "0.5864216089248657\n",
      "0.5854299664497375\n",
      "0.5844404697418213\n",
      "0.5834527015686035\n",
      "0.5824669599533081\n",
      "0.5814828276634216\n",
      "0.5805007219314575\n",
      "0.5795204639434814\n",
      "0.5785422325134277\n",
      "0.5775651931762695\n",
      "0.5765904188156128\n",
      "0.575617790222168\n",
      "0.5746464729309082\n",
      "0.5736773014068604\n",
      "0.5727095007896423\n",
      "0.5717443227767944\n",
      "0.5707803964614868\n",
      "0.5698181986808777\n",
      "0.5688583850860596\n",
      "0.5678998827934265\n",
      "0.5669429302215576\n",
      "0.5659884214401245\n",
      "0.5650354027748108\n",
      "0.5640844106674194\n",
      "0.5631349086761475\n",
      "0.5621871948242188\n",
      "0.561241626739502\n",
      "0.5602976083755493\n",
      "0.5593550801277161\n",
      "0.5584150552749634\n",
      "0.5574761629104614\n",
      "0.5565393567085266\n",
      "0.5556041598320007\n",
      "0.5546708106994629\n",
      "0.5537391901016235\n",
      "0.5528092384338379\n",
      "0.5518810749053955\n",
      "0.5509552955627441\n",
      "0.550030529499054\n"
     ]
    }
   ],
   "source": [
    "import torch\n",
    "import torchvision\n",
    "from torchvision import datasets\n",
    "\n",
    "loader = torch.utils.data.DataLoader(torch.utils.data.TensorDataset(x_samples, y_samples), batch_size = 50)\n",
    "\n",
    "# w0 = torch.randn(4)\n",
    "# w0.requires_grad_(True)\n",
    "w0 = torch.tensor([0, -0.5, 10, 0.1], requires_grad=True)\n",
    "\n",
    "optimizer = torch.optim.Adam([w0], lr=1e-3)\n",
    "num_epoch = 1000\n",
    "\n",
    "for i in range(num_epoch):\n",
    "    for xi, yi in loader:\n",
    "        optimizer.zero_grad()\n",
    "        pred = f(xi, w0)\n",
    "        loss = (pred - yi) @ (pred - yi)\n",
    "        loss.backward()\n",
    "        optimizer.step()\n",
    "    print(loss.item())"
   ]
  },
  {
   "cell_type": "code",
   "execution_count": 19,
   "metadata": {
    "slideshow": {
     "slide_type": "slide"
    }
   },
   "outputs": [
    {
     "name": "stdout",
     "output_type": "stream",
     "text": [
      "[ 1.  -0.5 10.   0. ]\n",
      "[ 0.63016695 -0.28623897  9.975043   -0.01195789]\n"
     ]
    }
   ],
   "source": [
    "print(w)\n",
    "print(w0.detach().numpy())\n",
    "y_pred = f(x_range, w0.detach())\n"
   ]
  },
  {
   "cell_type": "code",
   "execution_count": 20,
   "metadata": {
    "slideshow": {
     "slide_type": "slide"
    }
   },
   "outputs": [
    {
     "data": {
      "text/plain": [
       "<matplotlib.collections.PathCollection at 0x1206eab00>"
      ]
     },
     "execution_count": 20,
     "metadata": {},
     "output_type": "execute_result"
    },
    {
     "data": {
      "image/png": "[encoded data removed]",
      "text/plain": [
       "<Figure size 432x288 with 1 Axes>"
      ]
     },
     "metadata": {
      "needs_background": "light"
     },
     "output_type": "display_data"
    }
   ],
   "source": [
    "plt.plot(x_range.numpy(), y_pred.numpy())\n",
    "plt.scatter(x_range.numpy(), f(x_range).numpy())"
   ]
  },
  {
   "cell_type": "markdown",
   "metadata": {
    "slideshow": {
     "slide_type": "slide"
    }
   },
   "source": [
    "### Стохастические оценки\n",
    "    \n",
    "$$ f(x) = \\mathbb{E}_{\\xi} g(x, \\xi)$$"
   ]
  },
  {
   "cell_type": "markdown",
   "metadata": {
    "slideshow": {
     "slide_type": "slide"
    }
   },
   "source": [
    "### Оценка следа матрицы (a.k.a Hutchinson trace estimator)\n",
    "\n",
    "- Дана квадратная матрица $X$ или функция, которая умножает её на вектор\n",
    "- Рассмотрим \n",
    "\n",
    "$$tr(X) = tr(XI) = \\mathbb{E} [tr(Xzz^{\\top})] = \\mathbb{E} [z^{\\top}Xz],$$\n",
    "\n",
    "для случайных величин $z$ с единичной ковариационной матрицей.\n",
    "\n",
    "Примеры \n",
    "\n",
    "- $\\mathcal{N}(0, I)$\n",
    "- Распределение Радемахера"
   ]
  },
  {
   "cell_type": "markdown",
   "metadata": {
    "slideshow": {
     "slide_type": "slide"
    }
   },
   "source": [
    "## Точность формализации\n",
    "\n",
    "- Внешние и внутренние критерии\n",
    "- Целевые прокси-функции\n",
    "- Аппроксимация требований реального мира\n",
    "    - функции потерь для классификации\n",
    "    - рекомендательные системы\n",
    "    - тематическое моделирование"
   ]
  },
  {
   "cell_type": "markdown",
   "metadata": {
    "slideshow": {
     "slide_type": "slide"
    }
   },
   "source": [
    "## Доступная информация\n",
    "\n",
    "- Можно ли вычислить градиент?\n",
    "- Можно ли хранить градиент?\n",
    "- Можно ли хранить гессиан?\n",
    "- Нужно ли хранить гессиан?\n",
    "- Какая дополнительная информация о задаче доступна?"
   ]
  },
  {
   "cell_type": "markdown",
   "metadata": {
    "slideshow": {
     "slide_type": "slide"
    }
   },
   "source": [
    "## Методы и их реализации\n",
    "\n",
    "- Безградиентные\n",
    "    - [Nevergrad](https://github.com/facebookresearch/nevergrad)\n",
    "    - [Zoopt](https://github.com/eyounx/ZOOpt)\n",
    "    - [Scipy](https://docs.scipy.org/doc/scipy/reference/tutorial/optimize.html#global-optimization)\n",
    "    - [MATLAB toolboxes](https://www.mathworks.com/help/gads/)\n",
    "- Методы первого порядка\n",
    "    - точные: возможно вычислить и хранить точный градиент\n",
    "    - стохастические: градиент можно хранить, но нельзя вычислить точно\n",
    "- Методы первого порядка для простых ограничений\n",
    "    - Вычисление проекции\n",
    "    - Решение линейной задачи на допустимом множестве\n",
    "- Методы внутренней точки\n",
    "    - Коническая оптимизация и всё, что к ней сводится\n",
    "    - Проекты [cvx](http://cvxr.com/cvx/), [cvxpy](https://www.cvxpy.org/index.html)"
   ]
  },
  {
   "cell_type": "markdown",
   "metadata": {
    "slideshow": {
     "slide_type": "slide"
    }
   },
   "source": [
    "## Технические детали\n",
    "\n",
    "- Модель чёрного ящика\n",
    "- Эвристики и Байесовская оптимизация\n",
    "- Автоматическое дифференцирование, теорема Баура-Штрассена\n",
    "- Умножение гессиана на вектор - достаточно для методов второго порядка"
   ]
  },
  {
   "cell_type": "code",
   "execution_count": 21,
   "metadata": {
    "slideshow": {
     "slide_type": "slide"
    }
   },
   "outputs": [
    {
     "name": "stdout",
     "output_type": "stream",
     "text": [
      "tensor(1.4746, grad_fn=<SubBackward0>)\n",
      "1.474555253982544\n"
     ]
    }
   ],
   "source": [
    "import torch\n",
    "\n",
    "n = 5\n",
    "A = torch.randn((n, n), requires_grad=True)\n",
    "b = torch.randn((n,))\n",
    "x = torch.randn((n,), requires_grad=True)\n",
    "\n",
    "f = 0.5 * x @ A @ x - b @ x\n",
    "f.backward()\n",
    "print(f)\n",
    "print(f.item())"
   ]
  },
  {
   "cell_type": "code",
   "execution_count": 22,
   "metadata": {
    "slideshow": {
     "slide_type": "slide"
    }
   },
   "outputs": [
    {
     "name": "stdout",
     "output_type": "stream",
     "text": [
      "tensor([ 2.7857,  3.0105,  1.0885, -1.3457,  0.0904])\n",
      "tensor([ 2.7857,  3.0105,  1.0885, -1.3457,  0.0904])\n"
     ]
    }
   ],
   "source": [
    "manual_grad_x = 0.5 * (A + A.t()) @ x - b\n",
    "\n",
    "print(manual_grad_x.data)\n",
    "print(x.grad.data)"
   ]
  },
  {
   "cell_type": "code",
   "execution_count": 24,
   "metadata": {
    "slideshow": {
     "slide_type": "slide"
    }
   },
   "outputs": [
    {
     "name": "stdout",
     "output_type": "stream",
     "text": [
      "0.0\n"
     ]
    }
   ],
   "source": [
    "manual_grad_A = 0.5 * torch.ger(x, x)\n",
    "\n",
    "# print(manual_grad_A.data)\n",
    "# print(A.grad.data)\n",
    "print(torch.norm(manual_grad_A.data - A.grad.data).item())"
   ]
  },
  {
   "cell_type": "markdown",
   "metadata": {
    "slideshow": {
     "slide_type": "slide"
    }
   },
   "source": [
    "## Матричные функции"
   ]
  },
  {
   "cell_type": "code",
   "execution_count": 25,
   "metadata": {
    "slideshow": {
     "slide_type": "slide"
    }
   },
   "outputs": [
    {
     "name": "stdout",
     "output_type": "stream",
     "text": [
      "0.02044147439301014\n",
      "tensor(0.)\n"
     ]
    }
   ],
   "source": [
    "X = torch.rand(10, 10, requires_grad=True)\n",
    "d = torch.det(X)\n",
    "print(d.item())\n",
    "d.backward()\n",
    "autograd = X.grad.data\n",
    "manual_grad = torch.inverse(X.detach()).t() * d.detach()\n",
    "print(torch.norm(autograd - manual_grad))"
   ]
  },
  {
   "cell_type": "markdown",
   "metadata": {
    "slideshow": {
     "slide_type": "slide"
    }
   },
   "source": [
    "## Что нужно для вычисления матриц Якоби и гессианов?"
   ]
  },
  {
   "cell_type": "code",
   "execution_count": 35,
   "metadata": {
    "slideshow": {
     "slide_type": "slide"
    }
   },
   "outputs": [
    {
     "name": "stdout",
     "output_type": "stream",
     "text": [
      "None\n"
     ]
    }
   ],
   "source": [
    "x = torch.rand(10, requires_grad=True)\n",
    "y = torch.zeros_like(x)\n",
    "for i in range(10):\n",
    "    y[i] = torch.sin(x[i])\n",
    "    y[i].backward(retain_graph=True)\n",
    "print(y[1].grad)"
   ]
  },
  {
   "cell_type": "markdown",
   "metadata": {
    "slideshow": {
     "slide_type": "slide"
    }
   },
   "source": [
    "## Выводы\n",
    "\n",
    "1. Задачи бывают разные и нужно уметь выделять в них то, что позволит их решить\n",
    "2. Существует большое количество готовых пакетов для решения задач определённый классов\n",
    "3. Более того, часто есть гарантии качества на решение\n",
    "4. Распознать правильный метод для конкретной задачи - непростая задача!"
   ]
  }
 ],
 "metadata": {
  "celltoolbar": "Slideshow",
  "kernelspec": {
   "display_name": "Python (pytorch)",
   "language": "python",
   "name": "pytorch"
  },
  "language_info": {
   "codemirror_mode": {
    "name": "ipython",
    "version": 3
   },
   "file_extension": ".py",
   "mimetype": "text/x-python",
   "name": "python",
   "nbconvert_exporter": "python",
   "pygments_lexer": "ipython3",
   "version": "3.6.8"
  }
 },
 "nbformat": 4,
 "nbformat_minor": 2
}
